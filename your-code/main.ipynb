{
 "cells": [
  {
   "cell_type": "markdown",
   "metadata": {},
   "source": [
    "# Before your start:\n",
    "- Read the README.md file\n",
    "- Comment as much as you can and use the resources in the README.md file\n",
    "- Happy learning!\n"
   ]
  },
  {
   "cell_type": "code",
   "execution_count": 1,
   "metadata": {},
   "outputs": [],
   "source": [
    "#Import your libraries\n",
    "import pandas as pd"
   ]
  },
  {
   "cell_type": "markdown",
   "metadata": {},
   "source": [
    "# Challenge 1 -  Explore the Internal Dataset\n",
    "\n",
    "In this lab, we will start off by working with the wine dataset in scikit-learn. We will select the wine dataset and use a clustering algorithm to learn more about the functionalities of this library. \n",
    "\n",
    "We start off by loading the dataset using the `load_wine` function ([documentation](https://scikit-learn.org/stable/modules/generated/sklearn.datasets.load_wine.html)). In the cell below, we will import the function from scikit-learn."
   ]
  },
  {
   "cell_type": "code",
   "execution_count": 2,
   "metadata": {},
   "outputs": [],
   "source": [
    "from sklearn.datasets import load_wine"
   ]
  },
  {
   "cell_type": "markdown",
   "metadata": {},
   "source": [
    "In the cell below, use the `load_wine` function and assign the wine dataset to a variable called `wine`."
   ]
  },
  {
   "cell_type": "code",
   "execution_count": 3,
   "metadata": {},
   "outputs": [],
   "source": [
    "wine=load_wine()\n"
   ]
  },
  {
   "cell_type": "markdown",
   "metadata": {},
   "source": [
    "In the next step, list the keys of the variable `wine` to examine its contents. Note that the `load_wine` function does not return dataframes. It returns you a Python dictionary."
   ]
  },
  {
   "cell_type": "code",
   "execution_count": 4,
   "metadata": {},
   "outputs": [
    {
     "data": {
      "text/plain": [
       "dict_keys(['data', 'target', 'target_names', 'DESCR', 'feature_names'])"
      ]
     },
     "execution_count": 4,
     "metadata": {},
     "output_type": "execute_result"
    }
   ],
   "source": [
    "wine.keys()\n"
   ]
  },
  {
   "cell_type": "code",
   "execution_count": null,
   "metadata": {
    "scrolled": true
   },
   "outputs": [],
   "source": []
  },
  {
   "cell_type": "markdown",
   "metadata": {},
   "source": [
    "Next, list the feature names. These are the different characteristics of the wine. "
   ]
  },
  {
   "cell_type": "code",
   "execution_count": 5,
   "metadata": {},
   "outputs": [
    {
     "data": {
      "text/plain": [
       "['alcohol',\n",
       " 'malic_acid',\n",
       " 'ash',\n",
       " 'alcalinity_of_ash',\n",
       " 'magnesium',\n",
       " 'total_phenols',\n",
       " 'flavanoids',\n",
       " 'nonflavanoid_phenols',\n",
       " 'proanthocyanins',\n",
       " 'color_intensity',\n",
       " 'hue',\n",
       " 'od280/od315_of_diluted_wines',\n",
       " 'proline']"
      ]
     },
     "execution_count": 5,
     "metadata": {},
     "output_type": "execute_result"
    }
   ],
   "source": [
    "wine.feature_names"
   ]
  },
  {
   "cell_type": "markdown",
   "metadata": {},
   "source": [
    "Print the description of the dataset in the cell below using the `DESCR` attribute of the `wine` variable.\n",
    "\n",
    "*Hint: If your output is ill-formatted by displaying linebreaks as `\\n`, it means you are not using the print function.*"
   ]
  },
  {
   "cell_type": "code",
   "execution_count": 6,
   "metadata": {},
   "outputs": [
    {
     "name": "stdout",
     "output_type": "stream",
     "text": [
      "Wine Data Database\n",
      "====================\n",
      "\n",
      "Notes\n",
      "-----\n",
      "Data Set Characteristics:\n",
      "    :Number of Instances: 178 (50 in each of three classes)\n",
      "    :Number of Attributes: 13 numeric, predictive attributes and the class\n",
      "    :Attribute Information:\n",
      " \t\t- 1) Alcohol\n",
      " \t\t- 2) Malic acid\n",
      " \t\t- 3) Ash\n",
      "\t\t- 4) Alcalinity of ash  \n",
      " \t\t- 5) Magnesium\n",
      "\t\t- 6) Total phenols\n",
      " \t\t- 7) Flavanoids\n",
      " \t\t- 8) Nonflavanoid phenols\n",
      " \t\t- 9) Proanthocyanins\n",
      "\t\t- 10)Color intensity\n",
      " \t\t- 11)Hue\n",
      " \t\t- 12)OD280/OD315 of diluted wines\n",
      " \t\t- 13)Proline\n",
      "        \t- class:\n",
      "                - class_0\n",
      "                - class_1\n",
      "                - class_2\n",
      "\t\t\n",
      "    :Summary Statistics:\n",
      "    \n",
      "    ============================= ==== ===== ======= =====\n",
      "                                   Min   Max   Mean     SD\n",
      "    ============================= ==== ===== ======= =====\n",
      "    Alcohol:                      11.0  14.8    13.0   0.8\n",
      "    Malic Acid:                   0.74  5.80    2.34  1.12\n",
      "    Ash:                          1.36  3.23    2.36  0.27\n",
      "    Alcalinity of Ash:            10.6  30.0    19.5   3.3\n",
      "    Magnesium:                    70.0 162.0    99.7  14.3\n",
      "    Total Phenols:                0.98  3.88    2.29  0.63\n",
      "    Flavanoids:                   0.34  5.08    2.03  1.00\n",
      "    Nonflavanoid Phenols:         0.13  0.66    0.36  0.12\n",
      "    Proanthocyanins:              0.41  3.58    1.59  0.57\n",
      "    Colour Intensity:              1.3  13.0     5.1   2.3\n",
      "    Hue:                          0.48  1.71    0.96  0.23\n",
      "    OD280/OD315 of diluted wines: 1.27  4.00    2.61  0.71\n",
      "    Proline:                       278  1680     746   315\n",
      "    ============================= ==== ===== ======= =====\n",
      "\n",
      "    :Missing Attribute Values: None\n",
      "    :Class Distribution: class_0 (59), class_1 (71), class_2 (48)\n",
      "    :Creator: R.A. Fisher\n",
      "    :Donor: Michael Marshall (MARSHALL%PLU@io.arc.nasa.gov)\n",
      "    :Date: July, 1988\n",
      "\n",
      "This is a copy of UCI ML Wine recognition datasets.\n",
      "https://archive.ics.uci.edu/ml/machine-learning-databases/wine/wine.data\n",
      "\n",
      "The data is the results of a chemical analysis of wines grown in the same\n",
      "region in Italy by three different cultivators. There are thirteen different\n",
      "measurements taken for different constituents found in the three types of\n",
      "wine.\n",
      "\n",
      "Original Owners: \n",
      "\n",
      "Forina, M. et al, PARVUS - \n",
      "An Extendible Package for Data Exploration, Classification and Correlation. \n",
      "Institute of Pharmaceutical and Food Analysis and Technologies,\n",
      "Via Brigata Salerno, 16147 Genoa, Italy.\n",
      "\n",
      "Citation:\n",
      "\n",
      "Lichman, M. (2013). UCI Machine Learning Repository\n",
      "[http://archive.ics.uci.edu/ml]. Irvine, CA: University of California,\n",
      "School of Information and Computer Science. \n",
      "\n",
      "References\n",
      "----------\n",
      "(1) \n",
      "S. Aeberhard, D. Coomans and O. de Vel, \n",
      "Comparison of Classifiers in High Dimensional Settings, \n",
      "Tech. Rep. no. 92-02, (1992), Dept. of Computer Science and Dept. of \n",
      "Mathematics and Statistics, James Cook University of North Queensland. \n",
      "(Also submitted to Technometrics). \n",
      "\n",
      "The data was used with many others for comparing various \n",
      "classifiers. The classes are separable, though only RDA \n",
      "has achieved 100% correct classification. \n",
      "(RDA : 100%, QDA 99.4%, LDA 98.9%, 1NN 96.1% (z-transformed data)) \n",
      "(All results using the leave-one-out technique) \n",
      "\n",
      "(2) \n",
      "S. Aeberhard, D. Coomans and O. de Vel, \n",
      "\"THE CLASSIFICATION PERFORMANCE OF RDA\" \n",
      "Tech. Rep. no. 92-01, (1992), Dept. of Computer Science and Dept. of \n",
      "Mathematics and Statistics, James Cook University of North Queensland. \n",
      "(Also submitted to Journal of Chemometrics). \n",
      "\n"
     ]
    }
   ],
   "source": [
    "print(wine.DESCR)"
   ]
  },
  {
   "cell_type": "markdown",
   "metadata": {},
   "source": [
    "#### From the description, we see that all columns are numeric. We also know that there is no missing data \n",
    "\n",
    "Let's plot the alcohol content histogram. Recall that we are working with a numpy array and will need to use a matplotlib function to produce a histogram. "
   ]
  },
  {
   "cell_type": "code",
   "execution_count": 7,
   "metadata": {},
   "outputs": [],
   "source": [
    "import numpy as np\n",
    "import pandas as pd\n",
    "import matplotlib as plt"
   ]
  },
  {
   "cell_type": "code",
   "execution_count": 8,
   "metadata": {},
   "outputs": [
    {
     "data": {
      "text/plain": [
       "{'DESCR': 'Wine Data Database\\n====================\\n\\nNotes\\n-----\\nData Set Characteristics:\\n    :Number of Instances: 178 (50 in each of three classes)\\n    :Number of Attributes: 13 numeric, predictive attributes and the class\\n    :Attribute Information:\\n \\t\\t- 1) Alcohol\\n \\t\\t- 2) Malic acid\\n \\t\\t- 3) Ash\\n\\t\\t- 4) Alcalinity of ash  \\n \\t\\t- 5) Magnesium\\n\\t\\t- 6) Total phenols\\n \\t\\t- 7) Flavanoids\\n \\t\\t- 8) Nonflavanoid phenols\\n \\t\\t- 9) Proanthocyanins\\n\\t\\t- 10)Color intensity\\n \\t\\t- 11)Hue\\n \\t\\t- 12)OD280/OD315 of diluted wines\\n \\t\\t- 13)Proline\\n        \\t- class:\\n                - class_0\\n                - class_1\\n                - class_2\\n\\t\\t\\n    :Summary Statistics:\\n    \\n    ============================= ==== ===== ======= =====\\n                                   Min   Max   Mean     SD\\n    ============================= ==== ===== ======= =====\\n    Alcohol:                      11.0  14.8    13.0   0.8\\n    Malic Acid:                   0.74  5.80    2.34  1.12\\n    Ash:                          1.36  3.23    2.36  0.27\\n    Alcalinity of Ash:            10.6  30.0    19.5   3.3\\n    Magnesium:                    70.0 162.0    99.7  14.3\\n    Total Phenols:                0.98  3.88    2.29  0.63\\n    Flavanoids:                   0.34  5.08    2.03  1.00\\n    Nonflavanoid Phenols:         0.13  0.66    0.36  0.12\\n    Proanthocyanins:              0.41  3.58    1.59  0.57\\n    Colour Intensity:              1.3  13.0     5.1   2.3\\n    Hue:                          0.48  1.71    0.96  0.23\\n    OD280/OD315 of diluted wines: 1.27  4.00    2.61  0.71\\n    Proline:                       278  1680     746   315\\n    ============================= ==== ===== ======= =====\\n\\n    :Missing Attribute Values: None\\n    :Class Distribution: class_0 (59), class_1 (71), class_2 (48)\\n    :Creator: R.A. Fisher\\n    :Donor: Michael Marshall (MARSHALL%PLU@io.arc.nasa.gov)\\n    :Date: July, 1988\\n\\nThis is a copy of UCI ML Wine recognition datasets.\\nhttps://archive.ics.uci.edu/ml/machine-learning-databases/wine/wine.data\\n\\nThe data is the results of a chemical analysis of wines grown in the same\\nregion in Italy by three different cultivators. There are thirteen different\\nmeasurements taken for different constituents found in the three types of\\nwine.\\n\\nOriginal Owners: \\n\\nForina, M. et al, PARVUS - \\nAn Extendible Package for Data Exploration, Classification and Correlation. \\nInstitute of Pharmaceutical and Food Analysis and Technologies,\\nVia Brigata Salerno, 16147 Genoa, Italy.\\n\\nCitation:\\n\\nLichman, M. (2013). UCI Machine Learning Repository\\n[http://archive.ics.uci.edu/ml]. Irvine, CA: University of California,\\nSchool of Information and Computer Science. \\n\\nReferences\\n----------\\n(1) \\nS. Aeberhard, D. Coomans and O. de Vel, \\nComparison of Classifiers in High Dimensional Settings, \\nTech. Rep. no. 92-02, (1992), Dept. of Computer Science and Dept. of \\nMathematics and Statistics, James Cook University of North Queensland. \\n(Also submitted to Technometrics). \\n\\nThe data was used with many others for comparing various \\nclassifiers. The classes are separable, though only RDA \\nhas achieved 100% correct classification. \\n(RDA : 100%, QDA 99.4%, LDA 98.9%, 1NN 96.1% (z-transformed data)) \\n(All results using the leave-one-out technique) \\n\\n(2) \\nS. Aeberhard, D. Coomans and O. de Vel, \\n\"THE CLASSIFICATION PERFORMANCE OF RDA\" \\nTech. Rep. no. 92-01, (1992), Dept. of Computer Science and Dept. of \\nMathematics and Statistics, James Cook University of North Queensland. \\n(Also submitted to Journal of Chemometrics). \\n',\n",
       " 'data': array([[1.423e+01, 1.710e+00, 2.430e+00, ..., 1.040e+00, 3.920e+00,\n",
       "         1.065e+03],\n",
       "        [1.320e+01, 1.780e+00, 2.140e+00, ..., 1.050e+00, 3.400e+00,\n",
       "         1.050e+03],\n",
       "        [1.316e+01, 2.360e+00, 2.670e+00, ..., 1.030e+00, 3.170e+00,\n",
       "         1.185e+03],\n",
       "        ...,\n",
       "        [1.327e+01, 4.280e+00, 2.260e+00, ..., 5.900e-01, 1.560e+00,\n",
       "         8.350e+02],\n",
       "        [1.317e+01, 2.590e+00, 2.370e+00, ..., 6.000e-01, 1.620e+00,\n",
       "         8.400e+02],\n",
       "        [1.413e+01, 4.100e+00, 2.740e+00, ..., 6.100e-01, 1.600e+00,\n",
       "         5.600e+02]]),\n",
       " 'feature_names': ['alcohol',\n",
       "  'malic_acid',\n",
       "  'ash',\n",
       "  'alcalinity_of_ash',\n",
       "  'magnesium',\n",
       "  'total_phenols',\n",
       "  'flavanoids',\n",
       "  'nonflavanoid_phenols',\n",
       "  'proanthocyanins',\n",
       "  'color_intensity',\n",
       "  'hue',\n",
       "  'od280/od315_of_diluted_wines',\n",
       "  'proline'],\n",
       " 'target': array([0, 0, 0, 0, 0, 0, 0, 0, 0, 0, 0, 0, 0, 0, 0, 0, 0, 0, 0, 0, 0, 0,\n",
       "        0, 0, 0, 0, 0, 0, 0, 0, 0, 0, 0, 0, 0, 0, 0, 0, 0, 0, 0, 0, 0, 0,\n",
       "        0, 0, 0, 0, 0, 0, 0, 0, 0, 0, 0, 0, 0, 0, 0, 1, 1, 1, 1, 1, 1, 1,\n",
       "        1, 1, 1, 1, 1, 1, 1, 1, 1, 1, 1, 1, 1, 1, 1, 1, 1, 1, 1, 1, 1, 1,\n",
       "        1, 1, 1, 1, 1, 1, 1, 1, 1, 1, 1, 1, 1, 1, 1, 1, 1, 1, 1, 1, 1, 1,\n",
       "        1, 1, 1, 1, 1, 1, 1, 1, 1, 1, 1, 1, 1, 1, 1, 1, 1, 1, 1, 1, 2, 2,\n",
       "        2, 2, 2, 2, 2, 2, 2, 2, 2, 2, 2, 2, 2, 2, 2, 2, 2, 2, 2, 2, 2, 2,\n",
       "        2, 2, 2, 2, 2, 2, 2, 2, 2, 2, 2, 2, 2, 2, 2, 2, 2, 2, 2, 2, 2, 2,\n",
       "        2, 2]),\n",
       " 'target_names': array(['class_0', 'class_1', 'class_2'], dtype='<U7')}"
      ]
     },
     "execution_count": 8,
     "metadata": {},
     "output_type": "execute_result"
    }
   ],
   "source": [
    "wine"
   ]
  },
  {
   "cell_type": "code",
   "execution_count": 9,
   "metadata": {},
   "outputs": [],
   "source": [
    "#pd.DataFrame.from_dict(wine,orient='index')\n",
    "wine_df=pd.DataFrame(columns=wine[\"feature_names\"], data=wine.data)"
   ]
  },
  {
   "cell_type": "code",
   "execution_count": 10,
   "metadata": {},
   "outputs": [
    {
     "data": {
      "text/html": [
       "<div>\n",
       "<style scoped>\n",
       "    .dataframe tbody tr th:only-of-type {\n",
       "        vertical-align: middle;\n",
       "    }\n",
       "\n",
       "    .dataframe tbody tr th {\n",
       "        vertical-align: top;\n",
       "    }\n",
       "\n",
       "    .dataframe thead th {\n",
       "        text-align: right;\n",
       "    }\n",
       "</style>\n",
       "<table border=\"1\" class=\"dataframe\">\n",
       "  <thead>\n",
       "    <tr style=\"text-align: right;\">\n",
       "      <th></th>\n",
       "      <th>alcohol</th>\n",
       "      <th>malic_acid</th>\n",
       "      <th>ash</th>\n",
       "      <th>alcalinity_of_ash</th>\n",
       "      <th>magnesium</th>\n",
       "      <th>total_phenols</th>\n",
       "      <th>flavanoids</th>\n",
       "      <th>nonflavanoid_phenols</th>\n",
       "      <th>proanthocyanins</th>\n",
       "      <th>color_intensity</th>\n",
       "      <th>hue</th>\n",
       "      <th>od280/od315_of_diluted_wines</th>\n",
       "      <th>proline</th>\n",
       "    </tr>\n",
       "  </thead>\n",
       "  <tbody>\n",
       "    <tr>\n",
       "      <th>0</th>\n",
       "      <td>14.23</td>\n",
       "      <td>1.71</td>\n",
       "      <td>2.43</td>\n",
       "      <td>15.6</td>\n",
       "      <td>127.0</td>\n",
       "      <td>2.80</td>\n",
       "      <td>3.06</td>\n",
       "      <td>0.28</td>\n",
       "      <td>2.29</td>\n",
       "      <td>5.64</td>\n",
       "      <td>1.04</td>\n",
       "      <td>3.92</td>\n",
       "      <td>1065.0</td>\n",
       "    </tr>\n",
       "    <tr>\n",
       "      <th>1</th>\n",
       "      <td>13.20</td>\n",
       "      <td>1.78</td>\n",
       "      <td>2.14</td>\n",
       "      <td>11.2</td>\n",
       "      <td>100.0</td>\n",
       "      <td>2.65</td>\n",
       "      <td>2.76</td>\n",
       "      <td>0.26</td>\n",
       "      <td>1.28</td>\n",
       "      <td>4.38</td>\n",
       "      <td>1.05</td>\n",
       "      <td>3.40</td>\n",
       "      <td>1050.0</td>\n",
       "    </tr>\n",
       "    <tr>\n",
       "      <th>2</th>\n",
       "      <td>13.16</td>\n",
       "      <td>2.36</td>\n",
       "      <td>2.67</td>\n",
       "      <td>18.6</td>\n",
       "      <td>101.0</td>\n",
       "      <td>2.80</td>\n",
       "      <td>3.24</td>\n",
       "      <td>0.30</td>\n",
       "      <td>2.81</td>\n",
       "      <td>5.68</td>\n",
       "      <td>1.03</td>\n",
       "      <td>3.17</td>\n",
       "      <td>1185.0</td>\n",
       "    </tr>\n",
       "    <tr>\n",
       "      <th>3</th>\n",
       "      <td>14.37</td>\n",
       "      <td>1.95</td>\n",
       "      <td>2.50</td>\n",
       "      <td>16.8</td>\n",
       "      <td>113.0</td>\n",
       "      <td>3.85</td>\n",
       "      <td>3.49</td>\n",
       "      <td>0.24</td>\n",
       "      <td>2.18</td>\n",
       "      <td>7.80</td>\n",
       "      <td>0.86</td>\n",
       "      <td>3.45</td>\n",
       "      <td>1480.0</td>\n",
       "    </tr>\n",
       "    <tr>\n",
       "      <th>4</th>\n",
       "      <td>13.24</td>\n",
       "      <td>2.59</td>\n",
       "      <td>2.87</td>\n",
       "      <td>21.0</td>\n",
       "      <td>118.0</td>\n",
       "      <td>2.80</td>\n",
       "      <td>2.69</td>\n",
       "      <td>0.39</td>\n",
       "      <td>1.82</td>\n",
       "      <td>4.32</td>\n",
       "      <td>1.04</td>\n",
       "      <td>2.93</td>\n",
       "      <td>735.0</td>\n",
       "    </tr>\n",
       "  </tbody>\n",
       "</table>\n",
       "</div>"
      ],
      "text/plain": [
       "   alcohol  malic_acid   ash  alcalinity_of_ash  magnesium  total_phenols  \\\n",
       "0    14.23        1.71  2.43               15.6      127.0           2.80   \n",
       "1    13.20        1.78  2.14               11.2      100.0           2.65   \n",
       "2    13.16        2.36  2.67               18.6      101.0           2.80   \n",
       "3    14.37        1.95  2.50               16.8      113.0           3.85   \n",
       "4    13.24        2.59  2.87               21.0      118.0           2.80   \n",
       "\n",
       "   flavanoids  nonflavanoid_phenols  proanthocyanins  color_intensity   hue  \\\n",
       "0        3.06                  0.28             2.29             5.64  1.04   \n",
       "1        2.76                  0.26             1.28             4.38  1.05   \n",
       "2        3.24                  0.30             2.81             5.68  1.03   \n",
       "3        3.49                  0.24             2.18             7.80  0.86   \n",
       "4        2.69                  0.39             1.82             4.32  1.04   \n",
       "\n",
       "   od280/od315_of_diluted_wines  proline  \n",
       "0                          3.92   1065.0  \n",
       "1                          3.40   1050.0  \n",
       "2                          3.17   1185.0  \n",
       "3                          3.45   1480.0  \n",
       "4                          2.93    735.0  "
      ]
     },
     "execution_count": 10,
     "metadata": {},
     "output_type": "execute_result"
    }
   ],
   "source": [
    "wine_df.head()"
   ]
  },
  {
   "cell_type": "code",
   "execution_count": 13,
   "metadata": {},
   "outputs": [
    {
     "data": {
      "text/plain": [
       "<matplotlib.axes._subplots.AxesSubplot at 0x1a1d896160>"
      ]
     },
     "execution_count": 13,
     "metadata": {},
     "output_type": "execute_result"
    },
    {
     "data": {
      "image/png": "[encoded data removed]",
      "text/plain": [
       "<Figure size 432x288 with 1 Axes>"
      ]
     },
     "metadata": {},
     "output_type": "display_data"
    }
   ],
   "source": [
    "wine_df[\"alcohol\"].hist()"
   ]
  },
  {
   "cell_type": "markdown",
   "metadata": {},
   "source": [
    "# Challenge 2 - Clustering the Internal Dataset\n",
    "\n",
    "In this portion of the lab, we will cluster the data to find common traits between the different wines. We will use the k-means clustering algorithm to achieve this goal.\n",
    "\n",
    "#### We start by importing k-means from scikit-learn and then proceed to create 4 clusters."
   ]
  },
  {
   "cell_type": "code",
   "execution_count": 14,
   "metadata": {},
   "outputs": [],
   "source": [
    "from sklearn.cluster import KMeans"
   ]
  },
  {
   "cell_type": "code",
   "execution_count": 15,
   "metadata": {},
   "outputs": [
    {
     "data": {
      "text/plain": [
       "array([[1.25042424e+01, 2.44318182e+00, 2.28378788e+00, 2.07772727e+01,\n",
       "        9.24696970e+01, 2.07333333e+00, 1.79545455e+00, 3.84696970e-01,\n",
       "        1.47181818e+00, 4.07242423e+00, 9.46212121e-01, 2.50484848e+00,\n",
       "        4.52545455e+02],\n",
       "       [1.34887879e+01, 1.98515152e+00, 2.36575758e+00, 1.77484848e+01,\n",
       "        1.06666667e+02, 2.68424242e+00, 2.68303030e+00, 2.88787879e-01,\n",
       "        1.85363636e+00, 5.08636364e+00, 1.03078788e+00, 3.05606061e+00,\n",
       "        1.01251515e+03],\n",
       "       [1.38600000e+01, 1.79391304e+00, 2.50695652e+00, 1.70739130e+01,\n",
       "        1.06000000e+02, 2.94304348e+00, 3.11086957e+00, 2.98695652e-01,\n",
       "        1.92608696e+00, 6.26000000e+00, 1.10000000e+00, 3.03565217e+00,\n",
       "        1.33856522e+03],\n",
       "       [1.29450000e+01, 2.64017857e+00, 2.40678571e+00, 2.00071429e+01,\n",
       "        1.01660714e+02, 2.06107143e+00, 1.47535714e+00, 4.03928571e-01,\n",
       "        1.43875000e+00, 5.70946429e+00, 8.68928571e-01, 2.30160714e+00,\n",
       "        6.94267857e+02]])"
      ]
     },
     "execution_count": 15,
     "metadata": {},
     "output_type": "execute_result"
    }
   ],
   "source": [
    "kmeans = KMeans(n_clusters=4)\n",
    "wine_clusters = kmeans.fit(wine_df)\n",
    "wine_clusters.cluster_centers_\n"
   ]
  },
  {
   "cell_type": "markdown",
   "metadata": {},
   "source": [
    "#### Print the cluster labels."
   ]
  },
  {
   "cell_type": "code",
   "execution_count": 16,
   "metadata": {},
   "outputs": [],
   "source": [
    "wine_df['labels'] = wine_clusters.fit_predict(wine_df)"
   ]
  },
  {
   "cell_type": "code",
   "execution_count": 17,
   "metadata": {},
   "outputs": [
    {
     "data": {
      "text/plain": [
       "Index(['alcohol', 'malic_acid', 'ash', 'alcalinity_of_ash', 'magnesium',\n",
       "       'total_phenols', 'flavanoids', 'nonflavanoid_phenols',\n",
       "       'proanthocyanins', 'color_intensity', 'hue',\n",
       "       'od280/od315_of_diluted_wines', 'proline', 'labels'],\n",
       "      dtype='object')"
      ]
     },
     "execution_count": 17,
     "metadata": {},
     "output_type": "execute_result"
    }
   ],
   "source": [
    "wine_df.columns"
   ]
  },
  {
   "cell_type": "markdown",
   "metadata": {},
   "source": [
    "#### Compute the size of each cluster. This can be done by counting the number of occurrences of each unique label in the list above.\n",
    "\n",
    "Which is the largest cluster of the 4?"
   ]
  },
  {
   "cell_type": "code",
   "execution_count": 18,
   "metadata": {},
   "outputs": [
    {
     "data": {
      "text/plain": [
       "1    66\n",
       "3    57\n",
       "0    32\n",
       "2    23\n",
       "Name: labels, dtype: int64"
      ]
     },
     "execution_count": 18,
     "metadata": {},
     "output_type": "execute_result"
    }
   ],
   "source": [
    "wine_df[\"labels\"].value_counts()"
   ]
  },
  {
   "cell_type": "markdown",
   "metadata": {},
   "source": [
    "#### Inspect the shape of `wine['data']`"
   ]
  },
  {
   "cell_type": "code",
   "execution_count": 19,
   "metadata": {},
   "outputs": [
    {
     "data": {
      "text/plain": [
       "(178, 14)"
      ]
     },
     "execution_count": 19,
     "metadata": {},
     "output_type": "execute_result"
    }
   ],
   "source": [
    "wine_df.shape\n"
   ]
  },
  {
   "cell_type": "markdown",
   "metadata": {},
   "source": [
    "#### Inspect the first 5 records in `wine['data']`"
   ]
  },
  {
   "cell_type": "code",
   "execution_count": 20,
   "metadata": {},
   "outputs": [
    {
     "data": {
      "text/html": [
       "<div>\n",
       "<style scoped>\n",
       "    .dataframe tbody tr th:only-of-type {\n",
       "        vertical-align: middle;\n",
       "    }\n",
       "\n",
       "    .dataframe tbody tr th {\n",
       "        vertical-align: top;\n",
       "    }\n",
       "\n",
       "    .dataframe thead th {\n",
       "        text-align: right;\n",
       "    }\n",
       "</style>\n",
       "<table border=\"1\" class=\"dataframe\">\n",
       "  <thead>\n",
       "    <tr style=\"text-align: right;\">\n",
       "      <th></th>\n",
       "      <th>alcohol</th>\n",
       "      <th>malic_acid</th>\n",
       "      <th>ash</th>\n",
       "      <th>alcalinity_of_ash</th>\n",
       "      <th>magnesium</th>\n",
       "      <th>total_phenols</th>\n",
       "      <th>flavanoids</th>\n",
       "      <th>nonflavanoid_phenols</th>\n",
       "      <th>proanthocyanins</th>\n",
       "      <th>color_intensity</th>\n",
       "      <th>hue</th>\n",
       "      <th>od280/od315_of_diluted_wines</th>\n",
       "      <th>proline</th>\n",
       "      <th>labels</th>\n",
       "    </tr>\n",
       "  </thead>\n",
       "  <tbody>\n",
       "    <tr>\n",
       "      <th>0</th>\n",
       "      <td>14.23</td>\n",
       "      <td>1.71</td>\n",
       "      <td>2.43</td>\n",
       "      <td>15.6</td>\n",
       "      <td>127.0</td>\n",
       "      <td>2.80</td>\n",
       "      <td>3.06</td>\n",
       "      <td>0.28</td>\n",
       "      <td>2.29</td>\n",
       "      <td>5.64</td>\n",
       "      <td>1.04</td>\n",
       "      <td>3.92</td>\n",
       "      <td>1065.0</td>\n",
       "      <td>0</td>\n",
       "    </tr>\n",
       "    <tr>\n",
       "      <th>1</th>\n",
       "      <td>13.20</td>\n",
       "      <td>1.78</td>\n",
       "      <td>2.14</td>\n",
       "      <td>11.2</td>\n",
       "      <td>100.0</td>\n",
       "      <td>2.65</td>\n",
       "      <td>2.76</td>\n",
       "      <td>0.26</td>\n",
       "      <td>1.28</td>\n",
       "      <td>4.38</td>\n",
       "      <td>1.05</td>\n",
       "      <td>3.40</td>\n",
       "      <td>1050.0</td>\n",
       "      <td>0</td>\n",
       "    </tr>\n",
       "    <tr>\n",
       "      <th>2</th>\n",
       "      <td>13.16</td>\n",
       "      <td>2.36</td>\n",
       "      <td>2.67</td>\n",
       "      <td>18.6</td>\n",
       "      <td>101.0</td>\n",
       "      <td>2.80</td>\n",
       "      <td>3.24</td>\n",
       "      <td>0.30</td>\n",
       "      <td>2.81</td>\n",
       "      <td>5.68</td>\n",
       "      <td>1.03</td>\n",
       "      <td>3.17</td>\n",
       "      <td>1185.0</td>\n",
       "      <td>2</td>\n",
       "    </tr>\n",
       "    <tr>\n",
       "      <th>3</th>\n",
       "      <td>14.37</td>\n",
       "      <td>1.95</td>\n",
       "      <td>2.50</td>\n",
       "      <td>16.8</td>\n",
       "      <td>113.0</td>\n",
       "      <td>3.85</td>\n",
       "      <td>3.49</td>\n",
       "      <td>0.24</td>\n",
       "      <td>2.18</td>\n",
       "      <td>7.80</td>\n",
       "      <td>0.86</td>\n",
       "      <td>3.45</td>\n",
       "      <td>1480.0</td>\n",
       "      <td>2</td>\n",
       "    </tr>\n",
       "    <tr>\n",
       "      <th>4</th>\n",
       "      <td>13.24</td>\n",
       "      <td>2.59</td>\n",
       "      <td>2.87</td>\n",
       "      <td>21.0</td>\n",
       "      <td>118.0</td>\n",
       "      <td>2.80</td>\n",
       "      <td>2.69</td>\n",
       "      <td>0.39</td>\n",
       "      <td>1.82</td>\n",
       "      <td>4.32</td>\n",
       "      <td>1.04</td>\n",
       "      <td>2.93</td>\n",
       "      <td>735.0</td>\n",
       "      <td>3</td>\n",
       "    </tr>\n",
       "  </tbody>\n",
       "</table>\n",
       "</div>"
      ],
      "text/plain": [
       "   alcohol  malic_acid   ash  alcalinity_of_ash  magnesium  total_phenols  \\\n",
       "0    14.23        1.71  2.43               15.6      127.0           2.80   \n",
       "1    13.20        1.78  2.14               11.2      100.0           2.65   \n",
       "2    13.16        2.36  2.67               18.6      101.0           2.80   \n",
       "3    14.37        1.95  2.50               16.8      113.0           3.85   \n",
       "4    13.24        2.59  2.87               21.0      118.0           2.80   \n",
       "\n",
       "   flavanoids  nonflavanoid_phenols  proanthocyanins  color_intensity   hue  \\\n",
       "0        3.06                  0.28             2.29             5.64  1.04   \n",
       "1        2.76                  0.26             1.28             4.38  1.05   \n",
       "2        3.24                  0.30             2.81             5.68  1.03   \n",
       "3        3.49                  0.24             2.18             7.80  0.86   \n",
       "4        2.69                  0.39             1.82             4.32  1.04   \n",
       "\n",
       "   od280/od315_of_diluted_wines  proline  labels  \n",
       "0                          3.92   1065.0       0  \n",
       "1                          3.40   1050.0       0  \n",
       "2                          3.17   1185.0       2  \n",
       "3                          3.45   1480.0       2  \n",
       "4                          2.93    735.0       3  "
      ]
     },
     "execution_count": 20,
     "metadata": {},
     "output_type": "execute_result"
    }
   ],
   "source": [
    "wine_df.head()\n"
   ]
  },
  {
   "cell_type": "markdown",
   "metadata": {},
   "source": [
    "You now know the data object is a 2-dimensional array in which there are 178 rows and 13 columns. Each row is a data record and each column is a feature.\n",
    "\n",
    "#### What is the average ash content for each cluster? \n",
    "\n",
    "*Hints:* \n",
    "\n",
    "* *Ash* is the 3rd column.\n",
    "\n",
    "* The data object is not a Pandas dataframe so you can't apply `pandas.DataFrame.groupby`. Instead, you can use `np.average`."
   ]
  },
  {
   "cell_type": "code",
   "execution_count": 21,
   "metadata": {},
   "outputs": [
    {
     "data": {
      "text/html": [
       "<div>\n",
       "<style scoped>\n",
       "    .dataframe tbody tr th:only-of-type {\n",
       "        vertical-align: middle;\n",
       "    }\n",
       "\n",
       "    .dataframe tbody tr th {\n",
       "        vertical-align: top;\n",
       "    }\n",
       "\n",
       "    .dataframe thead th {\n",
       "        text-align: right;\n",
       "    }\n",
       "</style>\n",
       "<table border=\"1\" class=\"dataframe\">\n",
       "  <thead>\n",
       "    <tr style=\"text-align: right;\">\n",
       "      <th></th>\n",
       "      <th>ash</th>\n",
       "    </tr>\n",
       "    <tr>\n",
       "      <th>labels</th>\n",
       "      <th></th>\n",
       "    </tr>\n",
       "  </thead>\n",
       "  <tbody>\n",
       "    <tr>\n",
       "      <th>0</th>\n",
       "      <td>2.370937</td>\n",
       "    </tr>\n",
       "    <tr>\n",
       "      <th>1</th>\n",
       "      <td>2.283788</td>\n",
       "    </tr>\n",
       "    <tr>\n",
       "      <th>2</th>\n",
       "      <td>2.506957</td>\n",
       "    </tr>\n",
       "    <tr>\n",
       "      <th>3</th>\n",
       "      <td>2.403158</td>\n",
       "    </tr>\n",
       "  </tbody>\n",
       "</table>\n",
       "</div>"
      ],
      "text/plain": [
       "             ash\n",
       "labels          \n",
       "0       2.370937\n",
       "1       2.283788\n",
       "2       2.506957\n",
       "3       2.403158"
      ]
     },
     "execution_count": 21,
     "metadata": {},
     "output_type": "execute_result"
    }
   ],
   "source": [
    "wine_df.groupby(by=\"labels\").mean()[['ash']]\n"
   ]
  },
  {
   "cell_type": "markdown",
   "metadata": {},
   "source": [
    "# Challenge 3 - Load and Explore an External Dataset\n",
    "\n",
    "We will now load an external dataset using Pandas and use scikit learn to explore the data. In this portion of the lab, we will use a [patient dataset from Kaggle](https://www.kaggle.com/miles99/patient-admission-dataset-for-learning-data-mining). "
   ]
  },
  {
   "cell_type": "code",
   "execution_count": 49,
   "metadata": {},
   "outputs": [],
   "source": [
    "patient=pd.read_csv(r\"../data/patient-admission-dataset-for-learning-data-mining.csv\")"
   ]
  },
  {
   "cell_type": "markdown",
   "metadata": {},
   "source": [
    "In the next cell, print the first five rows of the data using the `head()` function."
   ]
  },
  {
   "cell_type": "code",
   "execution_count": 50,
   "metadata": {},
   "outputs": [
    {
     "data": {
      "text/html": [
       "<div>\n",
       "<style scoped>\n",
       "    .dataframe tbody tr th:only-of-type {\n",
       "        vertical-align: middle;\n",
       "    }\n",
       "\n",
       "    .dataframe tbody tr th {\n",
       "        vertical-align: top;\n",
       "    }\n",
       "\n",
       "    .dataframe thead th {\n",
       "        text-align: right;\n",
       "    }\n",
       "</style>\n",
       "<table border=\"1\" class=\"dataframe\">\n",
       "  <thead>\n",
       "    <tr style=\"text-align: right;\">\n",
       "      <th></th>\n",
       "      <th>id</th>\n",
       "      <th>patient_name</th>\n",
       "      <th>patient_email</th>\n",
       "      <th>doctor_phone</th>\n",
       "      <th>patient_gender</th>\n",
       "      <th>patient_dob</th>\n",
       "      <th>patient_diabetic</th>\n",
       "      <th>patient_allergic</th>\n",
       "      <th>patient_weight_kg</th>\n",
       "      <th>patient_height_sm</th>\n",
       "      <th>patient_nhs_number</th>\n",
       "      <th>doctor_name</th>\n",
       "      <th>appointment_date</th>\n",
       "      <th>patient_show</th>\n",
       "      <th>is_regular_visit</th>\n",
       "      <th>prescribed_medicines</th>\n",
       "      <th>diagnosis</th>\n",
       "    </tr>\n",
       "  </thead>\n",
       "  <tbody>\n",
       "    <tr>\n",
       "      <th>0</th>\n",
       "      <td>1</td>\n",
       "      <td>Celestyna Dillimore</td>\n",
       "      <td>cdillimore0@dion.ne.jp</td>\n",
       "      <td>674-914-1212</td>\n",
       "      <td>Female</td>\n",
       "      <td>10/18/2018</td>\n",
       "      <td>False</td>\n",
       "      <td>True</td>\n",
       "      <td>59</td>\n",
       "      <td>176</td>\n",
       "      <td>8.200152e+09</td>\n",
       "      <td>Sarena Waliszek</td>\n",
       "      <td>5/1/2018</td>\n",
       "      <td>True</td>\n",
       "      <td>True</td>\n",
       "      <td>triamcinolone acetonide</td>\n",
       "      <td>I669</td>\n",
       "    </tr>\n",
       "    <tr>\n",
       "      <th>1</th>\n",
       "      <td>2</td>\n",
       "      <td>Meta Michieli</td>\n",
       "      <td>mmichieli1@loc.gov</td>\n",
       "      <td>172-580-3586</td>\n",
       "      <td>Female</td>\n",
       "      <td>2/8/2018</td>\n",
       "      <td>False</td>\n",
       "      <td>True</td>\n",
       "      <td>77</td>\n",
       "      <td>186</td>\n",
       "      <td>NaN</td>\n",
       "      <td>Farris Robinet</td>\n",
       "      <td>12/7/2017</td>\n",
       "      <td>True</td>\n",
       "      <td>True</td>\n",
       "      <td>NaN</td>\n",
       "      <td>NaN</td>\n",
       "    </tr>\n",
       "    <tr>\n",
       "      <th>2</th>\n",
       "      <td>3</td>\n",
       "      <td>Cordie Sancto</td>\n",
       "      <td>csancto2@cafepress.com</td>\n",
       "      <td>794-222-5085</td>\n",
       "      <td>Female</td>\n",
       "      <td>10/9/2018</td>\n",
       "      <td>True</td>\n",
       "      <td>True</td>\n",
       "      <td>90</td>\n",
       "      <td>177</td>\n",
       "      <td>6.145594e+09</td>\n",
       "      <td>Kaspar Spitaro</td>\n",
       "      <td>10/5/2018</td>\n",
       "      <td>False</td>\n",
       "      <td>False</td>\n",
       "      <td>NaN</td>\n",
       "      <td>NaN</td>\n",
       "    </tr>\n",
       "    <tr>\n",
       "      <th>3</th>\n",
       "      <td>4</td>\n",
       "      <td>Josh De Ambrosis</td>\n",
       "      <td>jde3@amazon.co.jp</td>\n",
       "      <td>856-540-5195</td>\n",
       "      <td>Male</td>\n",
       "      <td>9/10/2018</td>\n",
       "      <td>True</td>\n",
       "      <td>True</td>\n",
       "      <td>70</td>\n",
       "      <td>150</td>\n",
       "      <td>NaN</td>\n",
       "      <td>Rafferty Fowls</td>\n",
       "      <td>10/21/2018</td>\n",
       "      <td>False</td>\n",
       "      <td>True</td>\n",
       "      <td>NaN</td>\n",
       "      <td>NaN</td>\n",
       "    </tr>\n",
       "    <tr>\n",
       "      <th>4</th>\n",
       "      <td>5</td>\n",
       "      <td>Delinda Alfonsini</td>\n",
       "      <td>dalfonsini4@opensource.org</td>\n",
       "      <td>938-978-1131</td>\n",
       "      <td>Female</td>\n",
       "      <td>2/26/2018</td>\n",
       "      <td>False</td>\n",
       "      <td>True</td>\n",
       "      <td>82</td>\n",
       "      <td>140</td>\n",
       "      <td>4.804758e+08</td>\n",
       "      <td>Glenna MacNeachtain</td>\n",
       "      <td>11/15/2018</td>\n",
       "      <td>False</td>\n",
       "      <td>False</td>\n",
       "      <td>NaN</td>\n",
       "      <td>NaN</td>\n",
       "    </tr>\n",
       "  </tbody>\n",
       "</table>\n",
       "</div>"
      ],
      "text/plain": [
       "   id         patient_name               patient_email  doctor_phone  \\\n",
       "0   1  Celestyna Dillimore      cdillimore0@dion.ne.jp  674-914-1212   \n",
       "1   2        Meta Michieli          mmichieli1@loc.gov  172-580-3586   \n",
       "2   3        Cordie Sancto      csancto2@cafepress.com  794-222-5085   \n",
       "3   4     Josh De Ambrosis           jde3@amazon.co.jp  856-540-5195   \n",
       "4   5    Delinda Alfonsini  dalfonsini4@opensource.org  938-978-1131   \n",
       "\n",
       "  patient_gender patient_dob  patient_diabetic  patient_allergic  \\\n",
       "0         Female  10/18/2018             False              True   \n",
       "1         Female    2/8/2018             False              True   \n",
       "2         Female   10/9/2018              True              True   \n",
       "3           Male   9/10/2018              True              True   \n",
       "4         Female   2/26/2018             False              True   \n",
       "\n",
       "   patient_weight_kg  patient_height_sm  patient_nhs_number  \\\n",
       "0                 59                176        8.200152e+09   \n",
       "1                 77                186                 NaN   \n",
       "2                 90                177        6.145594e+09   \n",
       "3                 70                150                 NaN   \n",
       "4                 82                140        4.804758e+08   \n",
       "\n",
       "           doctor_name appointment_date  patient_show  is_regular_visit  \\\n",
       "0      Sarena Waliszek         5/1/2018          True              True   \n",
       "1       Farris Robinet        12/7/2017          True              True   \n",
       "2       Kaspar Spitaro        10/5/2018         False             False   \n",
       "3       Rafferty Fowls       10/21/2018         False              True   \n",
       "4  Glenna MacNeachtain       11/15/2018         False             False   \n",
       "\n",
       "      prescribed_medicines diagnosis  \n",
       "0  triamcinolone acetonide      I669  \n",
       "1                      NaN       NaN  \n",
       "2                      NaN       NaN  \n",
       "3                      NaN       NaN  \n",
       "4                      NaN       NaN  "
      ]
     },
     "execution_count": 50,
     "metadata": {},
     "output_type": "execute_result"
    }
   ],
   "source": [
    "patient.head()\n"
   ]
  },
  {
   "cell_type": "markdown",
   "metadata": {},
   "source": [
    "Next, print the column types and check which columns have been misclassified by pandas."
   ]
  },
  {
   "cell_type": "code",
   "execution_count": 51,
   "metadata": {},
   "outputs": [
    {
     "data": {
      "text/plain": [
       "id                        int64\n",
       "patient_name             object\n",
       "patient_email            object\n",
       "doctor_phone             object\n",
       "patient_gender           object\n",
       "patient_dob              object\n",
       "patient_diabetic           bool\n",
       "patient_allergic           bool\n",
       "patient_weight_kg         int64\n",
       "patient_height_sm         int64\n",
       "patient_nhs_number      float64\n",
       "doctor_name              object\n",
       "appointment_date         object\n",
       "patient_show               bool\n",
       "is_regular_visit           bool\n",
       "prescribed_medicines     object\n",
       "diagnosis                object\n",
       "dtype: object"
      ]
     },
     "execution_count": 51,
     "metadata": {},
     "output_type": "execute_result"
    }
   ],
   "source": [
    "patient.dtypes"
   ]
  },
  {
   "cell_type": "markdown",
   "metadata": {},
   "source": [
    "#### We can see that none of the date columns have been correctly classified. Also, some columns contain qualitative data that can be dropped.\n",
    "\n",
    "First, transform the `patient_dob` and `appointment_date` columns to datetime using the `pd.to_datetime` function."
   ]
  },
  {
   "cell_type": "code",
   "execution_count": 52,
   "metadata": {},
   "outputs": [],
   "source": [
    "patient[\"patient_dob\"]=pd.to_datetime(patient[\"patient_dob\"])\n",
    "patient[\"appointment_date\"]=pd.to_datetime(patient[\"appointment_date\"])"
   ]
  },
  {
   "cell_type": "markdown",
   "metadata": {},
   "source": [
    "Next, drop the `id`, `patient_name`, `patient_email`, `patient_nhs_number`, and `doctor_phone` columns. These are not quantitative columns and will not contribute to our analysis."
   ]
  },
  {
   "cell_type": "code",
   "execution_count": 53,
   "metadata": {},
   "outputs": [],
   "source": [
    "patient_new=patient.drop(columns=[\"id\",\"patient_name\",\"patient_email\",\"patient_nhs_number\",\"doctor_phone\"])\n"
   ]
  },
  {
   "cell_type": "markdown",
   "metadata": {},
   "source": [
    "Now we work on the missing data. Most ML algorithms will not perform as intended if there are missing data.\n",
    "\n",
    "In the cell below, count how many rows contain missing data in each column. You should see three columns contain missing data:\n",
    "\n",
    "* `doctor_name`: 58 missing data\n",
    "* `prescribed_medicines`: 488 missing data\n",
    "* `diagnosis`: 488 missing data"
   ]
  },
  {
   "cell_type": "code",
   "execution_count": 54,
   "metadata": {},
   "outputs": [
    {
     "data": {
      "text/plain": [
       "patient_gender            0\n",
       "patient_dob               0\n",
       "patient_diabetic          0\n",
       "patient_allergic          0\n",
       "patient_weight_kg         0\n",
       "patient_height_sm         0\n",
       "doctor_name              58\n",
       "appointment_date          0\n",
       "patient_show              0\n",
       "is_regular_visit          0\n",
       "prescribed_medicines    488\n",
       "diagnosis               488\n",
       "dtype: int64"
      ]
     },
     "execution_count": 54,
     "metadata": {},
     "output_type": "execute_result"
    }
   ],
   "source": [
    "patient_new.isnull().sum()\n"
   ]
  },
  {
   "cell_type": "markdown",
   "metadata": {},
   "source": [
    "The main issues are found in the `prescribed_medicines` and `diagnosis` columns. Can we simply drop these rows?\n",
    "\n",
    "The answer is not yet. Because when there are missing data in these columns, it doesn't mean the data records are broken. Instead, it means no medication was prescribed and no diagnosis was recorded. Therefore, once we fill in the missing data these columns will be fine. But we'll revisit these columns and decide whether we will eventually drop them when we look at how many unique values are there in these categorical columns.  \n",
    "\n",
    "For the `prescribed_medicines` column, fill the missing values with the value `no prescription`. For the `diagnosis` column, fill the missing values with `no diagnosis`.\n",
    "\n",
    "*Hint: Use [`pandas.DataFrame.fillna`](https://pandas.pydata.org/pandas-docs/stable/generated/pandas.DataFrame.fillna.html).*"
   ]
  },
  {
   "cell_type": "code",
   "execution_count": 55,
   "metadata": {},
   "outputs": [],
   "source": [
    "patient_new[\"prescribed_medicines\"]=patient_new[\"prescribed_medicines\"].fillna(value=\"no prescription\")\n",
    "patient_new[\"diagnosis\"]=patient_new[\"diagnosis\"].fillna(value=\"no diagnosis\")"
   ]
  },
  {
   "cell_type": "code",
   "execution_count": 56,
   "metadata": {},
   "outputs": [
    {
     "data": {
      "text/plain": [
       "array(['I669', 'no diagnosis', 'S72309N', 'T508X6', 'S420', 'T8743',\n",
       "       'M80072A', 'T22342A', 'S06378S', 'T23269', 'Y37251D', 'S42491G',\n",
       "       'S58922', 'S89041', 'S72321R', 'E1340', 'B161', 'S52392D',\n",
       "       'W9431XA', 'S12551B', 'V722XXS', 'S82155H', 'P0734', 'S40811',\n",
       "       'S21049S', 'T2682XD', 'G4762', 'S91322S', 'T24701S', 'T2169',\n",
       "       'B352', 'T25021D', 'S66304', 'T8511', 'G328', 'I159', 'S72452A',\n",
       "       'T6192XD', 'Y383X2A', 'T444X6A', 'M2441', 'T501X5D', 'S353',\n",
       "       'W1692XD', 'S89299D', 'V4950XA', 'M0684', 'R4921', 'M7133', 'T311',\n",
       "       'O29013', 'S82114', 'H15012', 'C944', 'A669', 'M8916', 'V346XXS',\n",
       "       'M84573P', 'T81507S', 'S63232', 'M0570', 'T675XXS', 'S52331B',\n",
       "       'T84192S', 'M84453G', 'S46899', 'S52254G', 'M11849', 'T80218',\n",
       "       'M80071S', 'T63001S', 'S25492D', 'S42016B', 'V80928D', 'S72345C',\n",
       "       'S72443Q', 'G5783', 'H04211', 'T560X3S', 'W908', 'S3510XD',\n",
       "       'R4184', 'G4011', 'I308', 'O26852', 'S85102A', 'S9086', 'S82134D',\n",
       "       'S34102', 'S60041D', 'O368920', 'M10372', 'T4271', 'M1A0320',\n",
       "       'M87252', 'S82265K', 'T401X1S', 'A369', 'S93333A', 'S42324A',\n",
       "       'S92491', 'H40041', 'S27432', 'H11012', 'M84334K', 'T8386XS',\n",
       "       'M80822K', 'S60522', 'V9101', 'T440X4A', 'S56403S', 'K754',\n",
       "       'O26812', 'I850', 'V9605XD', 'M84631A', 'S0041', 'S72354P',\n",
       "       'H31329', 'M84569D', 'H04313', 'M2434', 'S82022H', 'Y248',\n",
       "       'V00811A', 'I69261', 'S01112', 'S01102A', 'M60162', 'V97811S',\n",
       "       'S36202D', 'F199', 'C130', 'V877', 'B972', 'M1A10X0', 'C9251',\n",
       "       'O360114', 'S62122D', 'S63266', 'S60212', 'S63295', 'T3292',\n",
       "       'O280', 'S53449', 'S82422J', 'S37531A', 'S89221', 'M2637',\n",
       "       'S98321', 'L971', 'H11129', 'S055', 'M8908', 'T550X2', 'J960',\n",
       "       'O693', 'V559XXD', 'S49039P', 'M5010', 'S31101D', 'M24474',\n",
       "       'H0243', 'S65011', 'S82254B', 'S92334G', 'S92223A', 'Y3593XA',\n",
       "       'S72445D', 'S12030D', 'S4292XA', 'M80871D', 'T466X5A', 'N2885',\n",
       "       'S12390D', 'S82045H', 'I83011', 'T86898', 'O43892', 'R203',\n",
       "       'H04131', 'M41117', 'S82151B', 'S82041K', 'S62235D', 'M342',\n",
       "       'S42222D', 'S062X0D', 'S4342', 'M8080XP', 'S52109H', 'Z020',\n",
       "       'Y37220S', 'V733', 'S66100D', 'T82118S', 'T5392XS', 'M1023',\n",
       "       'S42024D', 'S298', 'D173', 'S66319A', 'S61419A', 'M00052', 'S5620',\n",
       "       'S590', 'S52541S', 'S72445M', 'S89049A', 'T183XXD', 'S01311A',\n",
       "       'T17390', 'S92812D', 'S56113D', 'S238XXS', 'S99132G', 'S3215XB',\n",
       "       'O9122', 'S59801', 'M84433A', 'Z451', 'V00832S', 'G4759',\n",
       "       'V2960XA', 'S42014B', 'G718', 'S83409', 'S20362A', 'V110XXS',\n",
       "       'S52251K', 'S12690D', 'S83105A', 'M6127', 'S72423S', 'W5531XA',\n",
       "       'X52XXXS', 'S3590XS', 'T24602A', 'S471XXD', 'S63006', 'S02632K',\n",
       "       'S52322G', 'S92222K', 'X35XXXD', 'V541XXD', 'T6306', 'H401422',\n",
       "       'Y9302', 'S52612S', 'S72455J', 'T3182', 'S63035S', 'L97213',\n",
       "       'T68XXXS', 'S6791XS', 'T7114', 'M80842K', 'Z13', 'S90549D',\n",
       "       'W2107XD', 'M2325', 'W139XXD', 'T481X4', 'T23109A', 'S92523P',\n",
       "       'Z283', 'Z8541', 'S32058K', 'W5612XD', 'S62134B', 'S83111D',\n",
       "       'S52041C', 'S85189', 'S41032S', 'L441', 'S42352P', 'S52602Q',\n",
       "       'H4913', 'I741', 'M9711XA', 'S12101', 'T85828', 'M65232',\n",
       "       'S62327B', 'S56221S', 'S91222D', 'S82035M', 'T468X3A', 'D683',\n",
       "       'T618X2D', 'V0111XS', 'P780', 'W621XXS', 'S14135D', 'T507X3',\n",
       "       'H11022', 'S59192S', 'S11021', 'K51519', 'S52256B', 'S20301',\n",
       "       'M7981', 'T366X5D', 'Y62', 'S62185', 'V711', 'S61122', 'O324XX3',\n",
       "       'T63444S', 'S82452', 'V00322S', 'T6403XS', 'S42262A', 'M02812',\n",
       "       'T23609S', 'Q51', 'S065X1A', 'Q226', 'S27419D', 'S72425H',\n",
       "       'W320XXD', 'T39091S', 'S99102G', 'T475X6A', 'T440X5S', 'S42333G',\n",
       "       'T40993', 'M2555', 'J208', 'S42154G', 'S82264J', 'X928', 'T3185',\n",
       "       'S3134XA', 'Y92232', 'F10250', 'Z825', 'T8242XA', 'M110',\n",
       "       'S91153S', 'R871', 'M66352', 'M8972', 'S49112', 'T433X6A',\n",
       "       'T457X6S', 'S59802A', 'S82243J', 'S01152S', 'S82466H', 'S52009D',\n",
       "       'S1989XS', 'S66313D', 'A154', 'G9529', 'I82711', 'T63414A', 'A928',\n",
       "       'S89009', 'A3685', 'V401XXA', 'H4050X1', 'M12451', 'T82868',\n",
       "       'S92911G', 'S92413S', 'S0280XD', 'T402X6S', 'Z044', 'S73011',\n",
       "       'H1604', 'S62656', 'M80012K', 'C858', 'S2091XS', 'S42212G',\n",
       "       'J8411', 'S72091S', 'S72456Q', 'R402433', 'S76119S', 'R098',\n",
       "       'S73129S', 'S52236A', 'X004XXD', 'H16243', 'B3323', 'M2361',\n",
       "       'S53101D', 'S00552A', 'S82156G', 'H5017', 'S8390', 'H1812',\n",
       "       'S83112A', 'H93A2', 'V830XXD', 'N7681', 'O36011', 'S52699A',\n",
       "       'S63439D', 'S660', 'S88911A', 'S53015S', 'S46919A', 'S25811D',\n",
       "       'W0111', 'T468X5S', 'M80841A', 'Q051', 'S46019D', 'S27898S',\n",
       "       'S52122B', 'T374X3A', 'S8314', 'A241', 'I2111', 'M86451',\n",
       "       'V666XXD', 'S42455K', 'S31119D', 'S76091D', 'M84432', 'M205X',\n",
       "       'S82201P', 'S72144E', 'S68711S', 'V4351XS', 'S52311G', 'G318',\n",
       "       'S82425B', 'K1233', 'A1859', 'M12322', 'S153', 'S6111', 'H47021',\n",
       "       'T34531S', 'T43634A', 'S3792XA', 'H0019', 'S92101S', 'N99533',\n",
       "       'S52245J', 'V879XXS', 'S79821S', 'S5621', 'T63591S', 'E875',\n",
       "       'X101XXS', 'M88871', 'S42424S', 'T467X1S', 'V9361XD', 'O42911',\n",
       "       'K80', 'S2222', 'S52043K', 'W16021', 'S12351', 'S82146S',\n",
       "       'S72455A', 'S52224S', 'T80212S', 'S27391S', 'P920', 'M308',\n",
       "       'Y3709', 'S72361C', 'Q122', 'H5052', 'S96112', 'H01021', 'T23291D',\n",
       "       'G7089', 'T81591A', 'S0269XB', 'M05161', 'A849', 'S56108', 'K869',\n",
       "       'S62654G', 'H11142', 'O2252', 'S80262', 'S67192A', 'O30829',\n",
       "       'H011', 'V8672XD', 'M7101', 'S72346H', 'H44119', 'G9341',\n",
       "       'V9313XA', 'T65893S', 'D1339', 'T523X1A', 'S83409A', 'W132XXD',\n",
       "       'S70319A', 'L0233', 'T63592', 'S63694A', 'S52243H', 'S82112N',\n",
       "       'M4632', 'J633', 'O3620X1', 'C8469', 'S95091S', 'S6610', 'I70429'],\n",
       "      dtype=object)"
      ]
     },
     "execution_count": 56,
     "metadata": {},
     "output_type": "execute_result"
    }
   ],
   "source": [
    "patient_new[\"diagnosis\"].unique()"
   ]
  },
  {
   "cell_type": "markdown",
   "metadata": {},
   "source": [
    "How about `doctor_name`? Since a doctor visit without a doctor name might not be meaningful, we will drop these rows."
   ]
  },
  {
   "cell_type": "code",
   "execution_count": 57,
   "metadata": {},
   "outputs": [],
   "source": [
    "patient_new[\"doctor_name\"]=patient_new[\"doctor_name\"].dropna()"
   ]
  },
  {
   "cell_type": "markdown",
   "metadata": {},
   "source": [
    "#### Another step in preprocessing that can be performed by scikit-learn is label encoding. \n",
    "\n",
    "We have 4 columns that are of `bool` type. We would like to convert them to an integer column containing either zero or one. We can do this using [scikit-learn's label encoder](https://scikit-learn.org/stable/modules/generated/sklearn.preprocessing.LabelEncoder.html).\n",
    "\n",
    "In the cell below, import the label encoder and encode the 4 boolean columns (*patient_diabetic*, *patient_allergic*, *patient_show*, *is_regular_visit*) with `0` and `1`. "
   ]
  },
  {
   "cell_type": "code",
   "execution_count": 58,
   "metadata": {},
   "outputs": [
    {
     "data": {
      "text/plain": [
       "LabelEncoder()"
      ]
     },
     "execution_count": 58,
     "metadata": {},
     "output_type": "execute_result"
    }
   ],
   "source": [
    "from sklearn import preprocessing\n",
    "\n",
    "label_enc = preprocessing.LabelEncoder()\n",
    "label_enc.fit(patient_new[\"patient_diabetic\"])\n",
    "label_enc.classes_\n",
    "label_enc.fit(patient_new[\"patient_diabetic\"])"
   ]
  },
  {
   "cell_type": "code",
   "execution_count": 59,
   "metadata": {},
   "outputs": [],
   "source": [
    "for column in [\"patient_diabetic\", \"patient_allergic\", \"patient_show\", \"is_regular_visit\"]: \n",
    "    patient_new[column] = label_enc.transform(patient_new[column])"
   ]
  },
  {
   "cell_type": "markdown",
   "metadata": {},
   "source": [
    "Print the data dtypes to confirm those four `bool` columns are converted to `int64`."
   ]
  },
  {
   "cell_type": "code",
   "execution_count": 60,
   "metadata": {},
   "outputs": [
    {
     "data": {
      "text/plain": [
       "patient_gender                  object\n",
       "patient_dob             datetime64[ns]\n",
       "patient_diabetic                 int64\n",
       "patient_allergic                 int64\n",
       "patient_weight_kg                int64\n",
       "patient_height_sm                int64\n",
       "doctor_name                     object\n",
       "appointment_date        datetime64[ns]\n",
       "patient_show                     int64\n",
       "is_regular_visit                 int64\n",
       "prescribed_medicines            object\n",
       "diagnosis                       object\n",
       "dtype: object"
      ]
     },
     "execution_count": 60,
     "metadata": {},
     "output_type": "execute_result"
    }
   ],
   "source": [
    "patient_new.dtypes\n"
   ]
  },
  {
   "cell_type": "markdown",
   "metadata": {},
   "source": [
    "#### The last step is to handle the `object` data.\n",
    "\n",
    "There are 4 `object` columns now: `patient_gender`, `doctor_name`, `prescribed_medicines`, and `diagnosis`. The gender columns\n",
    "\n",
    "In the next cell, check the unique values of each of the `object` columns using `value_counts()`."
   ]
  },
  {
   "cell_type": "code",
   "execution_count": 61,
   "metadata": {
    "scrolled": false
   },
   "outputs": [
    {
     "data": {
      "text/plain": [
       "Female    504\n",
       "Male      496\n",
       "Name: patient_gender, dtype: int64"
      ]
     },
     "execution_count": 61,
     "metadata": {},
     "output_type": "execute_result"
    }
   ],
   "source": [
    "patient_new[\"patient_gender\"].value_counts()"
   ]
  },
  {
   "cell_type": "code",
   "execution_count": 62,
   "metadata": {},
   "outputs": [
    {
     "data": {
      "text/plain": [
       "Sarena Waliszek           74\n",
       "Cissy Markey              57\n",
       "Flossy Canlin             55\n",
       "Farris Robinet            55\n",
       "Glenna MacNeachtain       53\n",
       "Gabie Brafield            53\n",
       "Jilly McGrill             53\n",
       "Nerte Elmer               51\n",
       "Oralie Swaffer            49\n",
       "Kaspar Spitaro            48\n",
       "Humfried Cartmel          47\n",
       "Wyn Grassett              47\n",
       "Carly SperaJillie Katt    47\n",
       "Madelina Scurrell         46\n",
       "Rafferty Fowls            45\n",
       "Dulce McKerley            42\n",
       "Rouvin McKinstry          42\n",
       "Ryley Swallow             40\n",
       "Hermina Domeny            38\n",
       "Name: doctor_name, dtype: int64"
      ]
     },
     "execution_count": 62,
     "metadata": {},
     "output_type": "execute_result"
    }
   ],
   "source": [
    "patient_new[\"doctor_name\"].value_counts()"
   ]
  },
  {
   "cell_type": "code",
   "execution_count": 63,
   "metadata": {},
   "outputs": [
    {
     "data": {
      "text/plain": [
       "no prescription                                                                                                                                                                                    488\n",
       "ALCOHOL                                                                                                                                                                                              8\n",
       "Ibuprofen                                                                                                                                                                                            7\n",
       "Acetaminophen                                                                                                                                                                                        6\n",
       "Triclosan                                                                                                                                                                                            5\n",
       "Aluminum Zirconium Tetrachlorohydrex GLY                                                                                                                                                             4\n",
       "Menthol                                                                                                                                                                                              4\n",
       "Nicotine Polacrilex                                                                                                                                                                                  4\n",
       "Zinc Oxide                                                                                                                                                                                           3\n",
       "Dexamethasone                                                                                                                                                                                        3\n",
       "Glycerin                                                                                                                                                                                             3\n",
       "Octinoxate and Oxybenzone                                                                                                                                                                            3\n",
       "Sodium Fluoride                                                                                                                                                                                      3\n",
       "DOCUSATE SODIUM                                                                                                                                                                                      3\n",
       "Amlodipine Besylate                                                                                                                                                                                  3\n",
       "Hydrocodone Bitartrate and Acetaminophen                                                                                                                                                             3\n",
       "Metformin Hydrochloride                                                                                                                                                                              3\n",
       "Benzalkonium Chloride                                                                                                                                                                                3\n",
       "Oxcarbazepine                                                                                                                                                                                        3\n",
       "TRAMADOL HYDROCHLORIDE                                                                                                                                                                               2\n",
       "Carvedilol                                                                                                                                                                                           2\n",
       "Desmopressin Acetate                                                                                                                                                                                 2\n",
       "salicylic acid                                                                                                                                                                                       2\n",
       "Omeprazole                                                                                                                                                                                           2\n",
       "fentanyl                                                                                                                                                                                             2\n",
       "Risperidone                                                                                                                                                                                          2\n",
       "Simethicone                                                                                                                                                                                          2\n",
       "Octinoxate and Titanium dioxide                                                                                                                                                                      2\n",
       "False Ragweed                                                                                                                                                                                        2\n",
       "SODIUM FLUORIDE                                                                                                                                                                                      2\n",
       "                                                                                                                                                                                                  ... \n",
       "ZINC OXIDE, OCTINOXATE, and OCTISALATE                                                                                                                                                               1\n",
       "Vancomycin Hydrochloride                                                                                                                                                                             1\n",
       "TRIHEXYPHENIDYL HYDROCHLORIDE                                                                                                                                                                        1\n",
       "Cefotaxime Sodium                                                                                                                                                                                    1\n",
       "ezetimibe and simvastatin                                                                                                                                                                            1\n",
       "Duloxetine hydrochloride                                                                                                                                                                             1\n",
       "House Dust                                                                                                                                                                                           1\n",
       "False Ragweed Bur                                                                                                                                                                                    1\n",
       "Citalopram                                                                                                                                                                                           1\n",
       "Octisalate and Zinc Oxide                                                                                                                                                                            1\n",
       "Agnus 30c, Aurum Nat Mur. 30c, Aletris 30c, Dioscorea 30c                                                                                                                                            1\n",
       "Norethindrone and Ethinyl Estradiol                                                                                                                                                                  1\n",
       "ALUMINUM SULFATE                                                                                                                                                                                     1\n",
       "OCTINOXATE, TITANIUM DIOXIDE, and ZINC OXIDE                                                                                                                                                         1\n",
       "methylcellulose                                                                                                                                                                                      1\n",
       "Levocetirizine Dihydrochloride                                                                                                                                                                       1\n",
       "Dextromethophan Hydrobromide, Chlorpheniramine Maleate, Phenylephrine Hydrochloride                                                                                                                  1\n",
       "OCTISALATE, TITANIUM DIOXIDE                                                                                                                                                                         1\n",
       "Lidocaine Hydrochloride                                                                                                                                                                              1\n",
       "aluminum hydroxide                                                                                                                                                                                   1\n",
       "Aesculus hippocastanum, Arnica montana, Berberis vulgaris, Carbo vegetabilis, Echinacea angustifolia, Hamamelis virginiana, Hydrofluoricum acidum, Lycopodium clavatum, Secale cornutum, Sulfur      1\n",
       "Erythromycin                                                                                                                                                                                         1\n",
       "Gabapentin                                                                                                                                                                                           1\n",
       "Acetaminophen, Dextromethorphan Hydrobromide, Phenylephrine Hydrochloride                                                                                                                            1\n",
       "Folic Acid                                                                                                                                                                                           1\n",
       "bethanechol chloride                                                                                                                                                                                 1\n",
       "Rough Marsh Elder                                                                                                                                                                                    1\n",
       "SALICYLIC ACID, TITANIUM DIOXIDE, ZINC OXIDE                                                                                                                                                         1\n",
       "ACETAMINOPHEN                                                                                                                                                                                        1\n",
       "Hydrogen Peroxide                                                                                                                                                                                    1\n",
       "Name: prescribed_medicines, Length: 414, dtype: int64"
      ]
     },
     "execution_count": 63,
     "metadata": {},
     "output_type": "execute_result"
    }
   ],
   "source": [
    "patient_new[\"prescribed_medicines\"].value_counts()"
   ]
  },
  {
   "cell_type": "code",
   "execution_count": 64,
   "metadata": {},
   "outputs": [
    {
     "data": {
      "text/plain": [
       "no diagnosis    488\n",
       "T2169             2\n",
       "S31119D           1\n",
       "S6111             1\n",
       "S85102A           1\n",
       "H011              1\n",
       "S72456Q           1\n",
       "O29013            1\n",
       "C858              1\n",
       "O360114           1\n",
       "S82114            1\n",
       "T6403XS           1\n",
       "S52254G           1\n",
       "S0269XB           1\n",
       "S72144E           1\n",
       "X101XXS           1\n",
       "M60162            1\n",
       "G4762             1\n",
       "M2361             1\n",
       "H15012            1\n",
       "S92334G           1\n",
       "O43892            1\n",
       "S72423S           1\n",
       "S96112            1\n",
       "M80071S           1\n",
       "T6192XD           1\n",
       "M7981             1\n",
       "S89049A           1\n",
       "M84433A           1\n",
       "M1023             1\n",
       "               ... \n",
       "S72354P           1\n",
       "V877              1\n",
       "S62654G           1\n",
       "H4913             1\n",
       "S62185            1\n",
       "T23109A           1\n",
       "Y248              1\n",
       "S27391S           1\n",
       "M2325             1\n",
       "M80012K           1\n",
       "M0570             1\n",
       "G328              1\n",
       "B972              1\n",
       "T311              1\n",
       "S56403S           1\n",
       "S42262A           1\n",
       "T440X5S           1\n",
       "S238XXS           1\n",
       "O30829            1\n",
       "S63295            1\n",
       "S52251K           1\n",
       "V97811S           1\n",
       "S34102            1\n",
       "T80212S           1\n",
       "I741              1\n",
       "M80072A           1\n",
       "S72361C           1\n",
       "X928              1\n",
       "V722XXS           1\n",
       "H11022            1\n",
       "Name: diagnosis, Length: 512, dtype: int64"
      ]
     },
     "execution_count": 64,
     "metadata": {},
     "output_type": "execute_result"
    }
   ],
   "source": [
    "patient_new[\"diagnosis\"].value_counts()"
   ]
  },
  {
   "cell_type": "markdown",
   "metadata": {},
   "source": [
    "#### The number of unique values is large for all three columns except `patient_gender`. We will handle these columns differently.\n",
    "\n",
    "For `diagnosis`, there are too many unique values which will make ML difficult. However, we can re-encode the values to either with or without diagnosis. Remember at an earlier step we filled in the missing values of this column with *no diagnosis*? We can re-encode *no diagnosis* to `0` and all other values to `1`. In this way we can tremendously simply this column.\n",
    "\n",
    "For `prescribed_medicines`, we can drop this column because it is perfectly correlated with `diagnosis`. Whenever there is no diagnosis, there is no prescribed medicine. So we don't need to keep this duplicated data.\n",
    "\n",
    "How about `doctor_name`? There are not excessive unique values but still quite many (19). We may either drop or keep it but keeping it will make the analysis more complicated. So due to the length of this lab let's drop it.\n",
    "\n",
    "How about `gender`? This one is easy. Just like re-encoding the boolean values, we can re-encode gender to `0` and `1` because there are only 2 unique values.\n",
    "\n",
    "In the next cells, do the following:\n",
    "\n",
    "1. Create a new column called `diagnosis_int` that has `0` and `1` based on the values in `diagnosis`.\n",
    "\n",
    "1. Create a new column called `patient_gender_int` that has `0` and `1` based on the values in `patient_gender`.\n",
    "\n",
    "1. Drop the following columns: `doctor_name`, `diagnosis`, `prescribed_medicines`, and `patient_gender`."
   ]
  },
  {
   "cell_type": "code",
   "execution_count": 65,
   "metadata": {},
   "outputs": [
    {
     "data": {
      "text/plain": [
       "['I669',\n",
       " 'no diagnosis',\n",
       " 'S72309N',\n",
       " 'T508X6',\n",
       " 'S420',\n",
       " 'T8743',\n",
       " 'M80072A',\n",
       " 'T22342A',\n",
       " 'S06378S',\n",
       " 'T23269',\n",
       " 'Y37251D',\n",
       " 'S42491G',\n",
       " 'S58922',\n",
       " 'S89041',\n",
       " 'S72321R',\n",
       " 'E1340',\n",
       " 'B161',\n",
       " 'S52392D',\n",
       " 'W9431XA',\n",
       " 'S12551B',\n",
       " 'V722XXS',\n",
       " 'S82155H',\n",
       " 'P0734',\n",
       " 'S40811',\n",
       " 'S21049S',\n",
       " 'T2682XD',\n",
       " 'G4762',\n",
       " 'S91322S',\n",
       " 'T24701S',\n",
       " 'T2169',\n",
       " 'B352',\n",
       " 'T25021D',\n",
       " 'S66304',\n",
       " 'T8511',\n",
       " 'G328',\n",
       " 'I159',\n",
       " 'S72452A',\n",
       " 'T6192XD',\n",
       " 'Y383X2A',\n",
       " 'T444X6A',\n",
       " 'M2441',\n",
       " 'T501X5D',\n",
       " 'S353',\n",
       " 'W1692XD',\n",
       " 'S89299D',\n",
       " 'V4950XA',\n",
       " 'M0684',\n",
       " 'R4921',\n",
       " 'M7133',\n",
       " 'T311',\n",
       " 'O29013',\n",
       " 'S82114',\n",
       " 'H15012',\n",
       " 'C944',\n",
       " 'A669',\n",
       " 'M8916',\n",
       " 'V346XXS',\n",
       " 'M84573P',\n",
       " 'T81507S',\n",
       " 'S63232',\n",
       " 'M0570',\n",
       " 'T675XXS',\n",
       " 'S52331B',\n",
       " 'T84192S',\n",
       " 'M84453G',\n",
       " 'S46899',\n",
       " 'S52254G',\n",
       " 'M11849',\n",
       " 'T80218',\n",
       " 'M80071S',\n",
       " 'T63001S',\n",
       " 'S25492D',\n",
       " 'S42016B',\n",
       " 'V80928D',\n",
       " 'S72345C',\n",
       " 'S72443Q',\n",
       " 'G5783',\n",
       " 'H04211',\n",
       " 'T560X3S',\n",
       " 'W908',\n",
       " 'S3510XD',\n",
       " 'R4184',\n",
       " 'G4011',\n",
       " 'I308',\n",
       " 'O26852',\n",
       " 'S85102A',\n",
       " 'S9086',\n",
       " 'S82134D',\n",
       " 'S34102',\n",
       " 'S60041D',\n",
       " 'O368920',\n",
       " 'M10372',\n",
       " 'T4271',\n",
       " 'M1A0320',\n",
       " 'M87252',\n",
       " 'S82265K',\n",
       " 'T401X1S',\n",
       " 'A369',\n",
       " 'S93333A',\n",
       " 'S42324A',\n",
       " 'S92491',\n",
       " 'H40041',\n",
       " 'S27432',\n",
       " 'H11012',\n",
       " 'M84334K',\n",
       " 'T8386XS',\n",
       " 'M80822K',\n",
       " 'S60522',\n",
       " 'V9101',\n",
       " 'T440X4A',\n",
       " 'S56403S',\n",
       " 'K754',\n",
       " 'O26812',\n",
       " 'I850',\n",
       " 'V9605XD',\n",
       " 'M84631A',\n",
       " 'S0041',\n",
       " 'S72354P',\n",
       " 'H31329',\n",
       " 'M84569D',\n",
       " 'H04313',\n",
       " 'M2434',\n",
       " 'S82022H',\n",
       " 'Y248',\n",
       " 'V00811A',\n",
       " 'I69261',\n",
       " 'S01112',\n",
       " 'S01102A',\n",
       " 'M60162',\n",
       " 'V97811S',\n",
       " 'S36202D',\n",
       " 'F199',\n",
       " 'C130',\n",
       " 'V877',\n",
       " 'B972',\n",
       " 'M1A10X0',\n",
       " 'C9251',\n",
       " 'O360114',\n",
       " 'S62122D',\n",
       " 'S63266',\n",
       " 'S60212',\n",
       " 'S63295',\n",
       " 'T3292',\n",
       " 'O280',\n",
       " 'S53449',\n",
       " 'S82422J',\n",
       " 'S37531A',\n",
       " 'S89221',\n",
       " 'M2637',\n",
       " 'S98321',\n",
       " 'L971',\n",
       " 'H11129',\n",
       " 'S055',\n",
       " 'M8908',\n",
       " 'T550X2',\n",
       " 'J960',\n",
       " 'O693',\n",
       " 'V559XXD',\n",
       " 'S49039P',\n",
       " 'M5010',\n",
       " 'S31101D',\n",
       " 'M24474',\n",
       " 'H0243',\n",
       " 'S65011',\n",
       " 'S82254B',\n",
       " 'S92334G',\n",
       " 'S92223A',\n",
       " 'Y3593XA',\n",
       " 'S72445D',\n",
       " 'S12030D',\n",
       " 'S4292XA',\n",
       " 'M80871D',\n",
       " 'T466X5A',\n",
       " 'N2885',\n",
       " 'S12390D',\n",
       " 'S82045H',\n",
       " 'I83011',\n",
       " 'T86898',\n",
       " 'O43892',\n",
       " 'R203',\n",
       " 'H04131',\n",
       " 'M41117',\n",
       " 'S82151B',\n",
       " 'S82041K',\n",
       " 'S62235D',\n",
       " 'M342',\n",
       " 'S42222D',\n",
       " 'S062X0D',\n",
       " 'S4342',\n",
       " 'M8080XP',\n",
       " 'S52109H',\n",
       " 'Z020',\n",
       " 'Y37220S',\n",
       " 'V733',\n",
       " 'S66100D',\n",
       " 'T82118S',\n",
       " 'T5392XS',\n",
       " 'M1023',\n",
       " 'S42024D',\n",
       " 'S298',\n",
       " 'D173',\n",
       " 'S66319A',\n",
       " 'S61419A',\n",
       " 'M00052',\n",
       " 'S5620',\n",
       " 'S590',\n",
       " 'S52541S',\n",
       " 'S72445M',\n",
       " 'S89049A',\n",
       " 'T183XXD',\n",
       " 'S01311A',\n",
       " 'T17390',\n",
       " 'S92812D',\n",
       " 'S56113D',\n",
       " 'S238XXS',\n",
       " 'S99132G',\n",
       " 'S3215XB',\n",
       " 'O9122',\n",
       " 'S59801',\n",
       " 'M84433A',\n",
       " 'Z451',\n",
       " 'V00832S',\n",
       " 'G4759',\n",
       " 'V2960XA',\n",
       " 'S42014B',\n",
       " 'G718',\n",
       " 'S83409',\n",
       " 'S20362A',\n",
       " 'V110XXS',\n",
       " 'S52251K',\n",
       " 'S12690D',\n",
       " 'S83105A',\n",
       " 'M6127',\n",
       " 'S72423S',\n",
       " 'W5531XA',\n",
       " 'X52XXXS',\n",
       " 'S3590XS',\n",
       " 'T24602A',\n",
       " 'S471XXD',\n",
       " 'S63006',\n",
       " 'S02632K',\n",
       " 'S52322G',\n",
       " 'S92222K',\n",
       " 'X35XXXD',\n",
       " 'V541XXD',\n",
       " 'T6306',\n",
       " 'H401422',\n",
       " 'Y9302',\n",
       " 'S52612S',\n",
       " 'S72455J',\n",
       " 'T3182',\n",
       " 'S63035S',\n",
       " 'L97213',\n",
       " 'T68XXXS',\n",
       " 'S6791XS',\n",
       " 'T7114',\n",
       " 'M80842K',\n",
       " 'Z13',\n",
       " 'S90549D',\n",
       " 'W2107XD',\n",
       " 'M2325',\n",
       " 'W139XXD',\n",
       " 'T481X4',\n",
       " 'T23109A',\n",
       " 'S92523P',\n",
       " 'Z283',\n",
       " 'Z8541',\n",
       " 'S32058K',\n",
       " 'W5612XD',\n",
       " 'S62134B',\n",
       " 'S83111D',\n",
       " 'S52041C',\n",
       " 'S85189',\n",
       " 'S41032S',\n",
       " 'L441',\n",
       " 'S42352P',\n",
       " 'S52602Q',\n",
       " 'H4913',\n",
       " 'I741',\n",
       " 'M9711XA',\n",
       " 'S12101',\n",
       " 'T85828',\n",
       " 'M65232',\n",
       " 'S62327B',\n",
       " 'S56221S',\n",
       " 'S91222D',\n",
       " 'S82035M',\n",
       " 'T468X3A',\n",
       " 'D683',\n",
       " 'T618X2D',\n",
       " 'V0111XS',\n",
       " 'P780',\n",
       " 'W621XXS',\n",
       " 'S14135D',\n",
       " 'T507X3',\n",
       " 'H11022',\n",
       " 'S59192S',\n",
       " 'S11021',\n",
       " 'K51519',\n",
       " 'S52256B',\n",
       " 'S20301',\n",
       " 'M7981',\n",
       " 'T366X5D',\n",
       " 'Y62',\n",
       " 'S62185',\n",
       " 'V711',\n",
       " 'S61122',\n",
       " 'O324XX3',\n",
       " 'T63444S',\n",
       " 'S82452',\n",
       " 'V00322S',\n",
       " 'T6403XS',\n",
       " 'S42262A',\n",
       " 'M02812',\n",
       " 'T23609S',\n",
       " 'Q51',\n",
       " 'S065X1A',\n",
       " 'Q226',\n",
       " 'S27419D',\n",
       " 'S72425H',\n",
       " 'W320XXD',\n",
       " 'T39091S',\n",
       " 'S99102G',\n",
       " 'T475X6A',\n",
       " 'T440X5S',\n",
       " 'S42333G',\n",
       " 'T40993',\n",
       " 'M2555',\n",
       " 'J208',\n",
       " 'S42154G',\n",
       " 'S82264J',\n",
       " 'X928',\n",
       " 'T3185',\n",
       " 'S3134XA',\n",
       " 'Y92232',\n",
       " 'F10250',\n",
       " 'Z825',\n",
       " 'T8242XA',\n",
       " 'M110',\n",
       " 'S91153S',\n",
       " 'R871',\n",
       " 'M66352',\n",
       " 'M8972',\n",
       " 'S49112',\n",
       " 'T433X6A',\n",
       " 'T457X6S',\n",
       " 'S59802A',\n",
       " 'S82243J',\n",
       " 'S01152S',\n",
       " 'S82466H',\n",
       " 'S52009D',\n",
       " 'S1989XS',\n",
       " 'S66313D',\n",
       " 'A154',\n",
       " 'G9529',\n",
       " 'I82711',\n",
       " 'T63414A',\n",
       " 'A928',\n",
       " 'S89009',\n",
       " 'A3685',\n",
       " 'V401XXA',\n",
       " 'H4050X1',\n",
       " 'M12451',\n",
       " 'T82868',\n",
       " 'S92911G',\n",
       " 'S92413S',\n",
       " 'S0280XD',\n",
       " 'T402X6S',\n",
       " 'Z044',\n",
       " 'S73011',\n",
       " 'H1604',\n",
       " 'S62656',\n",
       " 'M80012K',\n",
       " 'C858',\n",
       " 'S2091XS',\n",
       " 'S42212G',\n",
       " 'J8411',\n",
       " 'S72091S',\n",
       " 'S72456Q',\n",
       " 'R402433',\n",
       " 'S76119S',\n",
       " 'R098',\n",
       " 'S73129S',\n",
       " 'S52236A',\n",
       " 'X004XXD',\n",
       " 'H16243',\n",
       " 'B3323',\n",
       " 'M2361',\n",
       " 'S53101D',\n",
       " 'S00552A',\n",
       " 'S82156G',\n",
       " 'H5017',\n",
       " 'S8390',\n",
       " 'H1812',\n",
       " 'S83112A',\n",
       " 'H93A2',\n",
       " 'V830XXD',\n",
       " 'N7681',\n",
       " 'O36011',\n",
       " 'S52699A',\n",
       " 'S63439D',\n",
       " 'S660',\n",
       " 'S88911A',\n",
       " 'S53015S',\n",
       " 'S46919A',\n",
       " 'S25811D',\n",
       " 'W0111',\n",
       " 'T468X5S',\n",
       " 'M80841A',\n",
       " 'Q051',\n",
       " 'S46019D',\n",
       " 'S27898S',\n",
       " 'S52122B',\n",
       " 'T374X3A',\n",
       " 'S8314',\n",
       " 'A241',\n",
       " 'I2111',\n",
       " 'M86451',\n",
       " 'V666XXD',\n",
       " 'S42455K',\n",
       " 'S31119D',\n",
       " 'S76091D',\n",
       " 'M84432',\n",
       " 'M205X',\n",
       " 'S82201P',\n",
       " 'S72144E',\n",
       " 'S68711S',\n",
       " 'V4351XS',\n",
       " 'S52311G',\n",
       " 'G318',\n",
       " 'S82425B',\n",
       " 'K1233',\n",
       " 'A1859',\n",
       " 'M12322',\n",
       " 'S153',\n",
       " 'S6111',\n",
       " 'H47021',\n",
       " 'T34531S',\n",
       " 'T43634A',\n",
       " 'S3792XA',\n",
       " 'H0019',\n",
       " 'S92101S',\n",
       " 'N99533',\n",
       " 'S52245J',\n",
       " 'V879XXS',\n",
       " 'S79821S',\n",
       " 'S5621',\n",
       " 'T63591S',\n",
       " 'E875',\n",
       " 'X101XXS',\n",
       " 'M88871',\n",
       " 'S42424S',\n",
       " 'T467X1S',\n",
       " 'V9361XD',\n",
       " 'O42911',\n",
       " 'K80',\n",
       " 'S2222',\n",
       " 'S52043K',\n",
       " 'W16021',\n",
       " 'S12351',\n",
       " 'S82146S',\n",
       " 'S72455A',\n",
       " 'S52224S',\n",
       " 'T80212S',\n",
       " 'S27391S',\n",
       " 'P920',\n",
       " 'M308',\n",
       " 'Y3709',\n",
       " 'S72361C',\n",
       " 'Q122',\n",
       " 'H5052',\n",
       " 'S96112',\n",
       " 'H01021',\n",
       " 'T23291D',\n",
       " 'G7089',\n",
       " 'T81591A',\n",
       " 'S0269XB',\n",
       " 'M05161',\n",
       " 'A849',\n",
       " 'S56108',\n",
       " 'K869',\n",
       " 'S62654G',\n",
       " 'H11142',\n",
       " 'O2252',\n",
       " 'S80262',\n",
       " 'S67192A',\n",
       " 'O30829',\n",
       " 'H011',\n",
       " 'V8672XD',\n",
       " 'M7101',\n",
       " 'S72346H',\n",
       " 'H44119',\n",
       " 'G9341',\n",
       " 'V9313XA',\n",
       " 'T65893S',\n",
       " 'D1339',\n",
       " 'T523X1A',\n",
       " 'S83409A',\n",
       " 'W132XXD',\n",
       " 'S70319A',\n",
       " 'L0233',\n",
       " 'T63592',\n",
       " 'S63694A',\n",
       " 'S52243H',\n",
       " 'S82112N',\n",
       " 'M4632',\n",
       " 'J633',\n",
       " 'O3620X1',\n",
       " 'C8469',\n",
       " 'S95091S',\n",
       " 'S6610',\n",
       " 'I70429']"
      ]
     },
     "execution_count": 65,
     "metadata": {},
     "output_type": "execute_result"
    }
   ],
   "source": [
    "list(patient_new[\"diagnosis\"].unique())"
   ]
  },
  {
   "cell_type": "code",
   "execution_count": 67,
   "metadata": {},
   "outputs": [],
   "source": [
    "diagnosis_unique = list(patient_new[\"diagnosis\"].unique())\n",
    "diagnosis_unique.remove(\"no diagnosis\")\n"
   ]
  },
  {
   "cell_type": "code",
   "execution_count": 68,
   "metadata": {},
   "outputs": [],
   "source": [
    "patient_new.replace({\"diagnosis\": {'no diagnosis': 0}}, inplace=True)\n",
    "for i in diagnosis_unique:\n",
    "    patient_new.replace({\"diagnosis\": {i: 1}}, inplace=True)"
   ]
  },
  {
   "cell_type": "code",
   "execution_count": 76,
   "metadata": {},
   "outputs": [],
   "source": [
    "patient_new[\"patient_gender_int\"]=patient_new[\"patient_gender\"].replace({\"Female\": \"1\",\"Male\":\"0\"})"
   ]
  },
  {
   "cell_type": "code",
   "execution_count": 78,
   "metadata": {},
   "outputs": [],
   "source": [
    "patient_new[\"patient_gender_int\"]=pd.to_numeric(patient_new[\"patient_gender_int\"])"
   ]
  },
  {
   "cell_type": "code",
   "execution_count": 84,
   "metadata": {},
   "outputs": [],
   "source": [
    "patient_new.drop(columns=[\"doctor_name\", \"diagnosis\", \"prescribed_medicines\", \"patient_gender\"], inplace=True)"
   ]
  },
  {
   "cell_type": "markdown",
   "metadata": {},
   "source": [
    "Let's look at the head again to ensure the re-encoding and dropping are successful:"
   ]
  },
  {
   "cell_type": "code",
   "execution_count": 85,
   "metadata": {},
   "outputs": [
    {
     "data": {
      "text/html": [
       "<div>\n",
       "<style scoped>\n",
       "    .dataframe tbody tr th:only-of-type {\n",
       "        vertical-align: middle;\n",
       "    }\n",
       "\n",
       "    .dataframe tbody tr th {\n",
       "        vertical-align: top;\n",
       "    }\n",
       "\n",
       "    .dataframe thead th {\n",
       "        text-align: right;\n",
       "    }\n",
       "</style>\n",
       "<table border=\"1\" class=\"dataframe\">\n",
       "  <thead>\n",
       "    <tr style=\"text-align: right;\">\n",
       "      <th></th>\n",
       "      <th>patient_dob</th>\n",
       "      <th>patient_diabetic</th>\n",
       "      <th>patient_allergic</th>\n",
       "      <th>patient_weight_kg</th>\n",
       "      <th>patient_height_sm</th>\n",
       "      <th>appointment_date</th>\n",
       "      <th>patient_show</th>\n",
       "      <th>is_regular_visit</th>\n",
       "      <th>patient_gender_int</th>\n",
       "    </tr>\n",
       "  </thead>\n",
       "  <tbody>\n",
       "    <tr>\n",
       "      <th>0</th>\n",
       "      <td>2018-10-18</td>\n",
       "      <td>0</td>\n",
       "      <td>1</td>\n",
       "      <td>59</td>\n",
       "      <td>176</td>\n",
       "      <td>2018-05-01</td>\n",
       "      <td>1</td>\n",
       "      <td>1</td>\n",
       "      <td>1</td>\n",
       "    </tr>\n",
       "    <tr>\n",
       "      <th>1</th>\n",
       "      <td>2018-02-08</td>\n",
       "      <td>0</td>\n",
       "      <td>1</td>\n",
       "      <td>77</td>\n",
       "      <td>186</td>\n",
       "      <td>2017-12-07</td>\n",
       "      <td>1</td>\n",
       "      <td>1</td>\n",
       "      <td>1</td>\n",
       "    </tr>\n",
       "    <tr>\n",
       "      <th>2</th>\n",
       "      <td>2018-10-09</td>\n",
       "      <td>1</td>\n",
       "      <td>1</td>\n",
       "      <td>90</td>\n",
       "      <td>177</td>\n",
       "      <td>2018-10-05</td>\n",
       "      <td>0</td>\n",
       "      <td>0</td>\n",
       "      <td>1</td>\n",
       "    </tr>\n",
       "    <tr>\n",
       "      <th>3</th>\n",
       "      <td>2018-09-10</td>\n",
       "      <td>1</td>\n",
       "      <td>1</td>\n",
       "      <td>70</td>\n",
       "      <td>150</td>\n",
       "      <td>2018-10-21</td>\n",
       "      <td>0</td>\n",
       "      <td>1</td>\n",
       "      <td>0</td>\n",
       "    </tr>\n",
       "    <tr>\n",
       "      <th>4</th>\n",
       "      <td>2018-02-26</td>\n",
       "      <td>0</td>\n",
       "      <td>1</td>\n",
       "      <td>82</td>\n",
       "      <td>140</td>\n",
       "      <td>2018-11-15</td>\n",
       "      <td>0</td>\n",
       "      <td>0</td>\n",
       "      <td>1</td>\n",
       "    </tr>\n",
       "  </tbody>\n",
       "</table>\n",
       "</div>"
      ],
      "text/plain": [
       "  patient_dob  patient_diabetic  patient_allergic  patient_weight_kg  \\\n",
       "0  2018-10-18                 0                 1                 59   \n",
       "1  2018-02-08                 0                 1                 77   \n",
       "2  2018-10-09                 1                 1                 90   \n",
       "3  2018-09-10                 1                 1                 70   \n",
       "4  2018-02-26                 0                 1                 82   \n",
       "\n",
       "   patient_height_sm appointment_date  patient_show  is_regular_visit  \\\n",
       "0                176       2018-05-01             1                 1   \n",
       "1                186       2017-12-07             1                 1   \n",
       "2                177       2018-10-05             0                 0   \n",
       "3                150       2018-10-21             0                 1   \n",
       "4                140       2018-11-15             0                 0   \n",
       "\n",
       "   patient_gender_int  \n",
       "0                   1  \n",
       "1                   1  \n",
       "2                   1  \n",
       "3                   0  \n",
       "4                   1  "
      ]
     },
     "execution_count": 85,
     "metadata": {},
     "output_type": "execute_result"
    }
   ],
   "source": [
    "patient_new.head()\n"
   ]
  },
  {
   "cell_type": "markdown",
   "metadata": {},
   "source": [
    "An interesting observation is that all patients are no older than 2 years. However, their weights and heights indicate that they are adults. This cannot be true. Therefore, we can either trust the weight and height columns or the DOB column. Since there are other columns that indicate that these are adults (they have emails, some have diabetes) we will drop the `patient_dob` column. We will also drop the `appointment_date` column since it has too many unique values to transform to a dummy variable. Drop the two columns in the cell below."
   ]
  },
  {
   "cell_type": "code",
   "execution_count": 86,
   "metadata": {},
   "outputs": [],
   "source": [
    "patient_new.drop(columns=[\"appointment_date\",\"patient_dob\"],inplace=True)\n"
   ]
  },
  {
   "cell_type": "markdown",
   "metadata": {},
   "source": [
    "#### Our data is now ready for clustering. Let's use k-means again.\n",
    "\n",
    "We start by initializing and fitting a model in the cell below. Call this model patients_cluster."
   ]
  },
  {
   "cell_type": "code",
   "execution_count": 87,
   "metadata": {},
   "outputs": [],
   "source": [
    "kmeans= KMeans(n_clusters=5)"
   ]
  },
  {
   "cell_type": "code",
   "execution_count": 88,
   "metadata": {},
   "outputs": [],
   "source": [
    "patients_cluster = kmeans.fit(patient_new)"
   ]
  },
  {
   "cell_type": "markdown",
   "metadata": {},
   "source": [
    "Attach the labels to the dataframe. Do this by accessing the `labels_` in the `patients_cluster` model and assign them to a new column in `patients` that you will call `labels`."
   ]
  },
  {
   "cell_type": "code",
   "execution_count": 90,
   "metadata": {},
   "outputs": [],
   "source": [
    "patient_new[\"labels\"]=patients_cluster.labels_\n"
   ]
  },
  {
   "cell_type": "code",
   "execution_count": 91,
   "metadata": {},
   "outputs": [
    {
     "data": {
      "text/html": [
       "<div>\n",
       "<style scoped>\n",
       "    .dataframe tbody tr th:only-of-type {\n",
       "        vertical-align: middle;\n",
       "    }\n",
       "\n",
       "    .dataframe tbody tr th {\n",
       "        vertical-align: top;\n",
       "    }\n",
       "\n",
       "    .dataframe thead th {\n",
       "        text-align: right;\n",
       "    }\n",
       "</style>\n",
       "<table border=\"1\" class=\"dataframe\">\n",
       "  <thead>\n",
       "    <tr style=\"text-align: right;\">\n",
       "      <th></th>\n",
       "      <th>patient_diabetic</th>\n",
       "      <th>patient_allergic</th>\n",
       "      <th>patient_weight_kg</th>\n",
       "      <th>patient_height_sm</th>\n",
       "      <th>patient_show</th>\n",
       "      <th>is_regular_visit</th>\n",
       "      <th>patient_gender_int</th>\n",
       "      <th>labels</th>\n",
       "    </tr>\n",
       "  </thead>\n",
       "  <tbody>\n",
       "    <tr>\n",
       "      <th>0</th>\n",
       "      <td>0</td>\n",
       "      <td>1</td>\n",
       "      <td>59</td>\n",
       "      <td>176</td>\n",
       "      <td>1</td>\n",
       "      <td>1</td>\n",
       "      <td>1</td>\n",
       "      <td>1</td>\n",
       "    </tr>\n",
       "    <tr>\n",
       "      <th>1</th>\n",
       "      <td>0</td>\n",
       "      <td>1</td>\n",
       "      <td>77</td>\n",
       "      <td>186</td>\n",
       "      <td>1</td>\n",
       "      <td>1</td>\n",
       "      <td>1</td>\n",
       "      <td>4</td>\n",
       "    </tr>\n",
       "    <tr>\n",
       "      <th>2</th>\n",
       "      <td>1</td>\n",
       "      <td>1</td>\n",
       "      <td>90</td>\n",
       "      <td>177</td>\n",
       "      <td>0</td>\n",
       "      <td>0</td>\n",
       "      <td>1</td>\n",
       "      <td>2</td>\n",
       "    </tr>\n",
       "    <tr>\n",
       "      <th>3</th>\n",
       "      <td>1</td>\n",
       "      <td>1</td>\n",
       "      <td>70</td>\n",
       "      <td>150</td>\n",
       "      <td>0</td>\n",
       "      <td>1</td>\n",
       "      <td>0</td>\n",
       "      <td>3</td>\n",
       "    </tr>\n",
       "    <tr>\n",
       "      <th>4</th>\n",
       "      <td>0</td>\n",
       "      <td>1</td>\n",
       "      <td>82</td>\n",
       "      <td>140</td>\n",
       "      <td>0</td>\n",
       "      <td>0</td>\n",
       "      <td>1</td>\n",
       "      <td>3</td>\n",
       "    </tr>\n",
       "  </tbody>\n",
       "</table>\n",
       "</div>"
      ],
      "text/plain": [
       "   patient_diabetic  patient_allergic  patient_weight_kg  patient_height_sm  \\\n",
       "0                 0                 1                 59                176   \n",
       "1                 0                 1                 77                186   \n",
       "2                 1                 1                 90                177   \n",
       "3                 1                 1                 70                150   \n",
       "4                 0                 1                 82                140   \n",
       "\n",
       "   patient_show  is_regular_visit  patient_gender_int  labels  \n",
       "0             1                 1                   1       1  \n",
       "1             1                 1                   1       4  \n",
       "2             0                 0                   1       2  \n",
       "3             0                 1                   0       3  \n",
       "4             0                 0                   1       3  "
      ]
     },
     "execution_count": 91,
     "metadata": {},
     "output_type": "execute_result"
    }
   ],
   "source": [
    "patient_new.head()"
   ]
  },
  {
   "cell_type": "markdown",
   "metadata": {},
   "source": [
    "Now using a `groupby`, find the mean of every variable in `patients` and group by the `labels` column. This summary will allow us to see how the patients differ between the clusters. Your output should look similar to the image below.\n",
    "\n",
    "![groupby mean](../images/groupby-mean.png)\n",
    "\n",
    "Additionally, add a comment to describe which columns have the largest difference between clusters."
   ]
  },
  {
   "cell_type": "code",
   "execution_count": 93,
   "metadata": {},
   "outputs": [
    {
     "data": {
      "text/html": [
       "<div>\n",
       "<style scoped>\n",
       "    .dataframe tbody tr th:only-of-type {\n",
       "        vertical-align: middle;\n",
       "    }\n",
       "\n",
       "    .dataframe tbody tr th {\n",
       "        vertical-align: top;\n",
       "    }\n",
       "\n",
       "    .dataframe thead th {\n",
       "        text-align: right;\n",
       "    }\n",
       "</style>\n",
       "<table border=\"1\" class=\"dataframe\">\n",
       "  <thead>\n",
       "    <tr style=\"text-align: right;\">\n",
       "      <th></th>\n",
       "      <th>patient_diabetic</th>\n",
       "      <th>patient_allergic</th>\n",
       "      <th>patient_weight_kg</th>\n",
       "      <th>patient_height_sm</th>\n",
       "      <th>patient_show</th>\n",
       "      <th>is_regular_visit</th>\n",
       "      <th>patient_gender_int</th>\n",
       "    </tr>\n",
       "    <tr>\n",
       "      <th>labels</th>\n",
       "      <th></th>\n",
       "      <th></th>\n",
       "      <th></th>\n",
       "      <th></th>\n",
       "      <th></th>\n",
       "      <th></th>\n",
       "      <th></th>\n",
       "    </tr>\n",
       "  </thead>\n",
       "  <tbody>\n",
       "    <tr>\n",
       "      <th>0</th>\n",
       "      <td>0.561644</td>\n",
       "      <td>0.520548</td>\n",
       "      <td>98.050228</td>\n",
       "      <td>153.214612</td>\n",
       "      <td>0.488584</td>\n",
       "      <td>0.506849</td>\n",
       "      <td>0.474886</td>\n",
       "    </tr>\n",
       "    <tr>\n",
       "      <th>1</th>\n",
       "      <td>0.465909</td>\n",
       "      <td>0.511364</td>\n",
       "      <td>57.727273</td>\n",
       "      <td>177.068182</td>\n",
       "      <td>0.471591</td>\n",
       "      <td>0.545455</td>\n",
       "      <td>0.522727</td>\n",
       "    </tr>\n",
       "    <tr>\n",
       "      <th>2</th>\n",
       "      <td>0.479381</td>\n",
       "      <td>0.510309</td>\n",
       "      <td>98.391753</td>\n",
       "      <td>179.417526</td>\n",
       "      <td>0.479381</td>\n",
       "      <td>0.541237</td>\n",
       "      <td>0.541237</td>\n",
       "    </tr>\n",
       "    <tr>\n",
       "      <th>3</th>\n",
       "      <td>0.502242</td>\n",
       "      <td>0.502242</td>\n",
       "      <td>65.291480</td>\n",
       "      <td>151.251121</td>\n",
       "      <td>0.524664</td>\n",
       "      <td>0.551570</td>\n",
       "      <td>0.439462</td>\n",
       "    </tr>\n",
       "    <tr>\n",
       "      <th>4</th>\n",
       "      <td>0.563830</td>\n",
       "      <td>0.478723</td>\n",
       "      <td>78.122340</td>\n",
       "      <td>174.797872</td>\n",
       "      <td>0.494681</td>\n",
       "      <td>0.478723</td>\n",
       "      <td>0.558511</td>\n",
       "    </tr>\n",
       "  </tbody>\n",
       "</table>\n",
       "</div>"
      ],
      "text/plain": [
       "        patient_diabetic  patient_allergic  patient_weight_kg  \\\n",
       "labels                                                          \n",
       "0               0.561644          0.520548          98.050228   \n",
       "1               0.465909          0.511364          57.727273   \n",
       "2               0.479381          0.510309          98.391753   \n",
       "3               0.502242          0.502242          65.291480   \n",
       "4               0.563830          0.478723          78.122340   \n",
       "\n",
       "        patient_height_sm  patient_show  is_regular_visit  patient_gender_int  \n",
       "labels                                                                         \n",
       "0              153.214612      0.488584          0.506849            0.474886  \n",
       "1              177.068182      0.471591          0.545455            0.522727  \n",
       "2              179.417526      0.479381          0.541237            0.541237  \n",
       "3              151.251121      0.524664          0.551570            0.439462  \n",
       "4              174.797872      0.494681          0.478723            0.558511  "
      ]
     },
     "execution_count": 93,
     "metadata": {},
     "output_type": "execute_result"
    }
   ],
   "source": [
    "patient_new.groupby(\"labels\").mean()"
   ]
  },
  {
   "cell_type": "code",
   "execution_count": null,
   "metadata": {},
   "outputs": [],
   "source": [
    "\n",
    "# patient_weight_kg\tpatient_height_sm ?"
   ]
  },
  {
   "cell_type": "markdown",
   "metadata": {},
   "source": [
    "# Bonus Challenge: Visualize K-Means Clusters\n",
    "\n",
    "How did k-means cluster the data? You can obtain an intuitive view with a scatter plot. Generate a 2-d cluster plot below using `matplotlib`. You need to choose 2 of the features from your cleaned and transformed dataset, and use color to represent the cluster label generated from k-means.\n",
    "\n",
    "If the scatter plot does not make any sense to you, it means the features you chose to visualize are not the right ones. You should be able to see 4 clear clusters with different colors in your visualization that suggests how k-means had clustered your data.\n",
    "\n",
    "![Cluster Visualization](../images/clusters.png)"
   ]
  },
  {
   "cell_type": "code",
   "execution_count": null,
   "metadata": {},
   "outputs": [],
   "source": [
    "# Your code here:\n"
   ]
  },
  {
   "cell_type": "markdown",
   "metadata": {},
   "source": [
    "Additionally, you can visualize the clusters in 3-D scatter plot. Give it a try below."
   ]
  },
  {
   "cell_type": "code",
   "execution_count": null,
   "metadata": {},
   "outputs": [],
   "source": [
    "# Your code here:\n"
   ]
  }
 ],
 "metadata": {
  "kernelspec": {
   "display_name": "Python 3",
   "language": "python",
   "name": "python3"
  },
  "language_info": {
   "codemirror_mode": {
    "name": "ipython",
    "version": 3
   },
   "file_extension": ".py",
   "mimetype": "text/x-python",
   "name": "python",
   "nbconvert_exporter": "python",
   "pygments_lexer": "ipython3",
   "version": "3.6.4"
  }
 },
 "nbformat": 4,
 "nbformat_minor": 2
}
